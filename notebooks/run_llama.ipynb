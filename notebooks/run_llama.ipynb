{
 "cells": [
  {
   "cell_type": "code",
   "execution_count": 49,
   "id": "489d32ab-4323-4e59-b0e9-42845ffdffe1",
   "metadata": {},
   "outputs": [
    {
     "name": "stdout",
     "output_type": "stream",
     "text": [
      "huggingface/tokenizers: The current process just got forked, after parallelism has already been used. Disabling parallelism to avoid deadlocks...\n",
      "To disable this warning, you can either:\n",
      "\t- Avoid using `tokenizers` before the fork if possible\n",
      "\t- Explicitly set the environment variable TOKENIZERS_PARALLELISM=(true | false)\n",
      "Collecting groundingdino-py\n",
      "  Downloading groundingdino-py-0.4.0.tar.gz (82 kB)\n",
      "\u001b[2K     \u001b[90m━━━━━━━━━━━━━━━━━━━━━━━━━━━━━━━━━━━━━━━━\u001b[0m \u001b[32m82.3/82.3 kB\u001b[0m \u001b[31m2.6 MB/s\u001b[0m eta \u001b[36m0:00:00\u001b[0m\n",
      "\u001b[?25h  Preparing metadata (setup.py) ... \u001b[?25ldone\n",
      "\u001b[?25hRequirement already satisfied: torch in /home/volovikova/mambaforge/envs/tuning/lib/python3.8/site-packages (from groundingdino-py) (2.2.1)\n",
      "Requirement already satisfied: torchvision in /home/volovikova/mambaforge/envs/tuning/lib/python3.8/site-packages (from groundingdino-py) (0.17.1)\n",
      "Requirement already satisfied: transformers in /home/volovikova/mambaforge/envs/tuning/lib/python3.8/site-packages (from groundingdino-py) (4.31.0)\n",
      "Collecting addict (from groundingdino-py)\n",
      "  Downloading addict-2.4.0-py3-none-any.whl.metadata (1.0 kB)\n",
      "Collecting yapf (from groundingdino-py)\n",
      "  Downloading yapf-0.40.2-py3-none-any.whl.metadata (45 kB)\n",
      "\u001b[2K     \u001b[90m━━━━━━━━━━━━━━━━━━━━━━━━━━━━━━━━━━━━━━━━\u001b[0m \u001b[32m45.4/45.4 kB\u001b[0m \u001b[31m2.2 MB/s\u001b[0m eta \u001b[36m0:00:00\u001b[0m\n",
      "\u001b[?25hCollecting timm (from groundingdino-py)\n",
      "  Downloading timm-0.9.16-py3-none-any.whl.metadata (38 kB)\n",
      "Requirement already satisfied: numpy in /home/volovikova/mambaforge/envs/tuning/lib/python3.8/site-packages (from groundingdino-py) (1.24.4)\n",
      "Requirement already satisfied: opencv-python in /home/volovikova/mambaforge/envs/tuning/lib/python3.8/site-packages (from groundingdino-py) (4.7.0.72)\n",
      "Collecting supervision==0.6.0 (from groundingdino-py)\n",
      "  Downloading supervision-0.6.0-py3-none-any.whl.metadata (6.2 kB)\n",
      "Collecting pycocotools (from groundingdino-py)\n",
      "  Downloading pycocotools-2.0.7-cp38-cp38-manylinux_2_17_x86_64.manylinux2014_x86_64.whl.metadata (1.1 kB)\n",
      "Requirement already satisfied: matplotlib in /home/volovikova/mambaforge/envs/tuning/lib/python3.8/site-packages (from supervision==0.6.0->groundingdino-py) (3.7.4)\n",
      "Requirement already satisfied: pyyaml in /home/volovikova/mambaforge/envs/tuning/lib/python3.8/site-packages (from timm->groundingdino-py) (6.0.1)\n",
      "Requirement already satisfied: huggingface_hub in /home/volovikova/mambaforge/envs/tuning/lib/python3.8/site-packages (from timm->groundingdino-py) (0.20.2)\n",
      "Requirement already satisfied: safetensors in /home/volovikova/mambaforge/envs/tuning/lib/python3.8/site-packages (from timm->groundingdino-py) (0.4.2)\n",
      "Requirement already satisfied: filelock in /home/volovikova/mambaforge/envs/tuning/lib/python3.8/site-packages (from torch->groundingdino-py) (3.13.1)\n",
      "Requirement already satisfied: typing-extensions>=4.8.0 in /home/volovikova/mambaforge/envs/tuning/lib/python3.8/site-packages (from torch->groundingdino-py) (4.10.0)\n",
      "Requirement already satisfied: sympy in /home/volovikova/mambaforge/envs/tuning/lib/python3.8/site-packages (from torch->groundingdino-py) (1.12)\n",
      "Requirement already satisfied: networkx in /home/volovikova/mambaforge/envs/tuning/lib/python3.8/site-packages (from torch->groundingdino-py) (3.1)\n",
      "Requirement already satisfied: jinja2 in /home/volovikova/mambaforge/envs/tuning/lib/python3.8/site-packages (from torch->groundingdino-py) (3.1.3)\n",
      "Requirement already satisfied: fsspec in /home/volovikova/mambaforge/envs/tuning/lib/python3.8/site-packages (from torch->groundingdino-py) (2023.10.0)\n",
      "Requirement already satisfied: nvidia-cuda-nvrtc-cu12==12.1.105 in /home/volovikova/mambaforge/envs/tuning/lib/python3.8/site-packages (from torch->groundingdino-py) (12.1.105)\n",
      "Requirement already satisfied: nvidia-cuda-runtime-cu12==12.1.105 in /home/volovikova/mambaforge/envs/tuning/lib/python3.8/site-packages (from torch->groundingdino-py) (12.1.105)\n",
      "Requirement already satisfied: nvidia-cuda-cupti-cu12==12.1.105 in /home/volovikova/mambaforge/envs/tuning/lib/python3.8/site-packages (from torch->groundingdino-py) (12.1.105)\n",
      "Requirement already satisfied: nvidia-cudnn-cu12==8.9.2.26 in /home/volovikova/mambaforge/envs/tuning/lib/python3.8/site-packages (from torch->groundingdino-py) (8.9.2.26)\n",
      "Requirement already satisfied: nvidia-cublas-cu12==12.1.3.1 in /home/volovikova/mambaforge/envs/tuning/lib/python3.8/site-packages (from torch->groundingdino-py) (12.1.3.1)\n",
      "Requirement already satisfied: nvidia-cufft-cu12==11.0.2.54 in /home/volovikova/mambaforge/envs/tuning/lib/python3.8/site-packages (from torch->groundingdino-py) (11.0.2.54)\n",
      "Requirement already satisfied: nvidia-curand-cu12==10.3.2.106 in /home/volovikova/mambaforge/envs/tuning/lib/python3.8/site-packages (from torch->groundingdino-py) (10.3.2.106)\n",
      "Requirement already satisfied: nvidia-cusolver-cu12==11.4.5.107 in /home/volovikova/mambaforge/envs/tuning/lib/python3.8/site-packages (from torch->groundingdino-py) (11.4.5.107)\n",
      "Requirement already satisfied: nvidia-cusparse-cu12==12.1.0.106 in /home/volovikova/mambaforge/envs/tuning/lib/python3.8/site-packages (from torch->groundingdino-py) (12.1.0.106)\n",
      "Requirement already satisfied: nvidia-nccl-cu12==2.19.3 in /home/volovikova/mambaforge/envs/tuning/lib/python3.8/site-packages (from torch->groundingdino-py) (2.19.3)\n",
      "Requirement already satisfied: nvidia-nvtx-cu12==12.1.105 in /home/volovikova/mambaforge/envs/tuning/lib/python3.8/site-packages (from torch->groundingdino-py) (12.1.105)\n",
      "Requirement already satisfied: triton==2.2.0 in /home/volovikova/mambaforge/envs/tuning/lib/python3.8/site-packages (from torch->groundingdino-py) (2.2.0)\n",
      "Requirement already satisfied: nvidia-nvjitlink-cu12 in /home/volovikova/mambaforge/envs/tuning/lib/python3.8/site-packages (from nvidia-cusolver-cu12==11.4.5.107->torch->groundingdino-py) (12.3.101)\n",
      "Requirement already satisfied: pillow!=8.3.*,>=5.3.0 in /home/volovikova/mambaforge/envs/tuning/lib/python3.8/site-packages (from torchvision->groundingdino-py) (10.2.0)\n",
      "Requirement already satisfied: packaging>=20.0 in /home/volovikova/mambaforge/envs/tuning/lib/python3.8/site-packages (from transformers->groundingdino-py) (23.2)\n",
      "Requirement already satisfied: regex!=2019.12.17 in /home/volovikova/mambaforge/envs/tuning/lib/python3.8/site-packages (from transformers->groundingdino-py) (2023.12.25)\n",
      "Requirement already satisfied: requests in /home/volovikova/mambaforge/envs/tuning/lib/python3.8/site-packages (from transformers->groundingdino-py) (2.31.0)\n",
      "Requirement already satisfied: tokenizers!=0.11.3,<0.14,>=0.11.1 in /home/volovikova/mambaforge/envs/tuning/lib/python3.8/site-packages (from transformers->groundingdino-py) (0.13.3)\n",
      "Requirement already satisfied: tqdm>=4.27 in /home/volovikova/mambaforge/envs/tuning/lib/python3.8/site-packages (from transformers->groundingdino-py) (4.66.1)\n",
      "Requirement already satisfied: importlib-metadata>=6.6.0 in /home/volovikova/mambaforge/envs/tuning/lib/python3.8/site-packages (from yapf->groundingdino-py) (7.0.1)\n",
      "Requirement already satisfied: platformdirs>=3.5.1 in /home/volovikova/mambaforge/envs/tuning/lib/python3.8/site-packages (from yapf->groundingdino-py) (4.2.0)\n",
      "Requirement already satisfied: tomli>=2.0.1 in /home/volovikova/mambaforge/envs/tuning/lib/python3.8/site-packages (from yapf->groundingdino-py) (2.0.1)\n",
      "Requirement already satisfied: zipp>=0.5 in /home/volovikova/mambaforge/envs/tuning/lib/python3.8/site-packages (from importlib-metadata>=6.6.0->yapf->groundingdino-py) (3.17.0)\n",
      "Requirement already satisfied: contourpy>=1.0.1 in /home/volovikova/mambaforge/envs/tuning/lib/python3.8/site-packages (from matplotlib->supervision==0.6.0->groundingdino-py) (1.1.1)\n",
      "Requirement already satisfied: cycler>=0.10 in /home/volovikova/mambaforge/envs/tuning/lib/python3.8/site-packages (from matplotlib->supervision==0.6.0->groundingdino-py) (0.12.1)\n",
      "Requirement already satisfied: fonttools>=4.22.0 in /home/volovikova/mambaforge/envs/tuning/lib/python3.8/site-packages (from matplotlib->supervision==0.6.0->groundingdino-py) (4.49.0)\n",
      "Requirement already satisfied: kiwisolver>=1.0.1 in /home/volovikova/mambaforge/envs/tuning/lib/python3.8/site-packages (from matplotlib->supervision==0.6.0->groundingdino-py) (1.4.5)\n",
      "Requirement already satisfied: pyparsing>=2.3.1 in /home/volovikova/mambaforge/envs/tuning/lib/python3.8/site-packages (from matplotlib->supervision==0.6.0->groundingdino-py) (3.1.1)\n",
      "Requirement already satisfied: python-dateutil>=2.7 in /home/volovikova/mambaforge/envs/tuning/lib/python3.8/site-packages (from matplotlib->supervision==0.6.0->groundingdino-py) (2.8.2)\n",
      "Requirement already satisfied: importlib-resources>=3.2.0 in /home/volovikova/mambaforge/envs/tuning/lib/python3.8/site-packages (from matplotlib->supervision==0.6.0->groundingdino-py) (6.1.2)\n",
      "Requirement already satisfied: MarkupSafe>=2.0 in /home/volovikova/mambaforge/envs/tuning/lib/python3.8/site-packages (from jinja2->torch->groundingdino-py) (2.1.5)\n",
      "Requirement already satisfied: charset-normalizer<4,>=2 in /home/volovikova/mambaforge/envs/tuning/lib/python3.8/site-packages (from requests->transformers->groundingdino-py) (3.3.2)\n",
      "Requirement already satisfied: idna<4,>=2.5 in /home/volovikova/mambaforge/envs/tuning/lib/python3.8/site-packages (from requests->transformers->groundingdino-py) (3.6)\n",
      "Requirement already satisfied: urllib3<3,>=1.21.1 in /home/volovikova/mambaforge/envs/tuning/lib/python3.8/site-packages (from requests->transformers->groundingdino-py) (2.2.1)\n",
      "Requirement already satisfied: certifi>=2017.4.17 in /home/volovikova/mambaforge/envs/tuning/lib/python3.8/site-packages (from requests->transformers->groundingdino-py) (2024.2.2)\n",
      "Requirement already satisfied: mpmath>=0.19 in /home/volovikova/mambaforge/envs/tuning/lib/python3.8/site-packages (from sympy->torch->groundingdino-py) (1.3.0)\n",
      "Requirement already satisfied: six>=1.5 in /home/volovikova/mambaforge/envs/tuning/lib/python3.8/site-packages (from python-dateutil>=2.7->matplotlib->supervision==0.6.0->groundingdino-py) (1.16.0)\n",
      "Downloading supervision-0.6.0-py3-none-any.whl (31 kB)\n",
      "Downloading addict-2.4.0-py3-none-any.whl (3.8 kB)\n",
      "Downloading pycocotools-2.0.7-cp38-cp38-manylinux_2_17_x86_64.manylinux2014_x86_64.whl (439 kB)\n",
      "\u001b[2K   \u001b[90m━━━━━━━━━━━━━━━━━━━━━━━━━━━━━━━━━━━━━━━━\u001b[0m \u001b[32m439.5/439.5 kB\u001b[0m \u001b[31m9.2 MB/s\u001b[0m eta \u001b[36m0:00:00\u001b[0mta \u001b[36m0:00:01\u001b[0m\n",
      "\u001b[?25hDownloading timm-0.9.16-py3-none-any.whl (2.2 MB)\n",
      "\u001b[2K   \u001b[90m━━━━━━━━━━━━━━━━━━━━━━━━━━━━━━━━━━━━━━━━\u001b[0m \u001b[32m2.2/2.2 MB\u001b[0m \u001b[31m34.8 MB/s\u001b[0m eta \u001b[36m0:00:00\u001b[0ma \u001b[36m0:00:01\u001b[0m\n",
      "\u001b[?25hDownloading yapf-0.40.2-py3-none-any.whl (254 kB)\n",
      "\u001b[2K   \u001b[90m━━━━━━━━━━━━━━━━━━━━━━━━━━━━━━━━━━━━━━━━\u001b[0m \u001b[32m254.7/254.7 kB\u001b[0m \u001b[31m12.2 MB/s\u001b[0m eta \u001b[36m0:00:00\u001b[0m\n",
      "\u001b[?25hBuilding wheels for collected packages: groundingdino-py\n",
      "  Building wheel for groundingdino-py (setup.py) ... \u001b[?25ldone\n",
      "\u001b[?25h  Created wheel for groundingdino-py: filename=groundingdino_py-0.4.0-py2.py3-none-any.whl size=88735 sha256=f07c49294a41678ff55868a214a7609cc314fe22f316f85e0056c41693f1b792\n",
      "  Stored in directory: /home/volovikova/.cache/pip/wheels/3e/ee/88/6293fae94071313d22ce50be89f57e4bd8cb4967582ae61824\n",
      "Successfully built groundingdino-py\n",
      "Installing collected packages: addict, yapf, supervision, pycocotools, timm, groundingdino-py\n",
      "Successfully installed addict-2.4.0 groundingdino-py-0.4.0 pycocotools-2.0.7 supervision-0.6.0 timm-0.9.16 yapf-0.40.2\n"
     ]
    }
   ],
   "source": [
    "!pip install groundingdino-py"
   ]
  },
  {
   "cell_type": "code",
   "execution_count": 1,
   "id": "8db32516-7a46-4d9b-8bb3-c2c6d5e47d51",
   "metadata": {},
   "outputs": [
    {
     "name": "stdout",
     "output_type": "stream",
     "text": [
      "/home/volovikova/mambaforge/envs/tuning/bin/python3.8\n"
     ]
    }
   ],
   "source": [
    "import glob\n",
    "import os\n",
    "import sys\n",
    "import torch\n",
    "from datasets import Dataset, load_dataset\n",
    "from peft import LoraConfig, PeftModel\n",
    "import peft\n",
    "from transformers import AutoModelForCausalLM, AutoTokenizer, HfArgumentParser, TrainingArguments\n",
    "\n",
    "sys.path.append(\"../\")\n",
    "from dpo_tuning.utils.detector import get_Dino_predictions, get_ONE_PEACE_predictions, get_images\n",
    "#from training_arguments import ScriptArguments\n",
    "\n",
    "from torch.distributed.elastic.multiprocessing.errors import record\n",
    "import os\n",
    "import pandas as pd\n",
    "\n",
    "from dpo_tuning.utils.detector import get_Dino_predictions, get_ONE_PEACE_predictions, get_images\n",
    "from groundingdino.util.inference import load_model, load_image, predict\n",
    "\n",
    "import re\n",
    "from dpo_tuning.utils.metrics import box_iou\n",
    "from torchvision.ops import box_convert\n",
    "\n",
    "import sys\n",
    "import cv2\n",
    "import numpy as np\n",
    "from PIL import Image\n",
    "import matplotlib.pyplot as plt\n",
    "print(sys.executable)"
   ]
  },
  {
   "cell_type": "code",
   "execution_count": 100,
   "id": "39f9b7fe-66df-453e-a81b-68cf334af093",
   "metadata": {},
   "outputs": [
    {
     "name": "stdout",
     "output_type": "stream",
     "text": [
      "/home/volovikova/cunning_manipulator/notebooks\n"
     ]
    }
   ],
   "source": [
    "import sys\n",
    "sys.path.append(\"../\")\n",
    "sys.path.append(\"../dpo_tuning\")\n",
    "import os\n",
    "os.system('pwd')\n",
    "import numpy as np\n",
    "import torch\n",
    "from torchvision.ops import box_convert\n",
    "from groundingdino.util.inference import load_model, load_image, predict\n",
    "import pandas as pd\n",
    "import statistics\n",
    "import re\n",
    "import random\n",
    "from transformers import (\n",
    "    AutoModelForCausalLM,\n",
    "    AutoTokenizer,\n",
    "    HfArgumentParser,\n",
    ")\n",
    "\n",
    "from PIL import Image\n",
    "import cv2\n",
    "import matplotlib.pyplot as plt\n",
    "from training_arguments import ValidationArguments\n",
    "import peft\n",
    "from dpo_tuning.utils.metrics import box_iou\n",
    "from dpo_tuning.utils.data import prepare_data\n",
    "from dpo_tuning.utils.detector import get_images, annotate_and_save\n",
    "from detectors.detectors import BaseDetector\n",
    "\n",
    "def get_predictions(i, data, prompt, detector, path_to_imgs):\n",
    "        \n",
    "        dataset_bbox = torch.Tensor([[float(x) for x in re.split(',', data['true_bbox'][i][1:-1])]])\n",
    "        real_bbox = box_convert(boxes=dataset_bbox, in_fmt=\"xywh\", out_fmt=\"xyxy\").numpy()[0] \n",
    "    \n",
    "        name, img_sources, images = get_images(data['item_id'][i], path_to_imgs)\n",
    "        image_metadata = {'image_np': images, 'image_pil': img_sources, 'correct': prompt, 'image_path': path_to_imgs+name}\n",
    "        predicted_bbox, pred_score = detector.predict(image_metadata)\n",
    "    \n",
    "       # print( predicted_bbox, pred_score, prompt)\n",
    "        return real_bbox, predicted_bbox, pred_score, prompt, name\n",
    "\n"
   ]
  },
  {
   "cell_type": "code",
   "execution_count": 46,
   "id": "1cd5e41f-bfa1-4e01-b4ed-7c1802034a22",
   "metadata": {},
   "outputs": [
    {
     "name": "stdout",
     "output_type": "stream",
     "text": [
      "['../dpo_tuning/results/DINO/checkpoint-5000', '../dpo_tuning/results/DINO/checkpoint-30000', '../dpo_tuning/results/DINO/checkpoint-37000', '../dpo_tuning/results/DINO/checkpoint-21000', '../dpo_tuning/results/DINO/checkpoint-1000', '../dpo_tuning/results/DINO/checkpoint-500', '../dpo_tuning/results/DINO/checkpoint-38000', '../dpo_tuning/results/DINO/checkpoint-4000', '../dpo_tuning/results/DINO/checkpoint-12000', '../dpo_tuning/results/DINO/checkpoint-17000', '../dpo_tuning/results/DINO/checkpoint-400', '../dpo_tuning/results/DINO/checkpoint-25000', '../dpo_tuning/results/DINO/checkpoint-11000', '../dpo_tuning/results/DINO/checkpoint-10000', '../dpo_tuning/results/DINO/checkpoint-13000', '../dpo_tuning/results/DINO/checkpoint-600', '../dpo_tuning/results/DINO/checkpoint-900', '../dpo_tuning/results/DINO/checkpoint-29000', '../dpo_tuning/results/DINO/checkpoint-9000', '../dpo_tuning/results/DINO/checkpoint-27000', '../dpo_tuning/results/DINO/checkpoint-2000', '../dpo_tuning/results/DINO/checkpoint-14000', '../dpo_tuning/results/DINO/checkpoint-28000', '../dpo_tuning/results/DINO/checkpoint-8000', '../dpo_tuning/results/DINO/checkpoint-22000', '../dpo_tuning/results/DINO/checkpoint-700', '../dpo_tuning/results/DINO/checkpoint-32000', '../dpo_tuning/results/DINO/checkpoint-33000', '../dpo_tuning/results/DINO/checkpoint-18000', '../dpo_tuning/results/DINO/checkpoint-7000', '../dpo_tuning/results/DINO/checkpoint-200', '../dpo_tuning/results/DINO/checkpoint-6000', '../dpo_tuning/results/DINO/checkpoint-24000', '../dpo_tuning/results/DINO/checkpoint-31000', '../dpo_tuning/results/DINO/checkpoint-15000', '../dpo_tuning/results/DINO/checkpoint-800', '../dpo_tuning/results/DINO/checkpoint-26000', '../dpo_tuning/results/DINO/checkpoint-34000', '../dpo_tuning/results/DINO/checkpoint-23000', '../dpo_tuning/results/DINO/checkpoint-19000', '../dpo_tuning/results/DINO/checkpoint-300', '../dpo_tuning/results/DINO/checkpoint-16000', '../dpo_tuning/results/DINO/checkpoint-20000', '../dpo_tuning/results/DINO/checkpoint-35000', '../dpo_tuning/results/DINO/checkpoint-36000', '../dpo_tuning/results/DINO/checkpoint-3000', '../dpo_tuning/results/DINO/checkpoint-100']\n"
     ]
    }
   ],
   "source": [
    "import glob\n",
    "checkpoints = glob.glob(\"../dpo_tuning/results/DINO/*\")\n",
    "print(checkpoints)\n",
    "path_to_checkpoint = '../dpo_tuning/results/DINO/checkpoint-800'\n"
   ]
  },
  {
   "cell_type": "code",
   "execution_count": 143,
   "id": "10a10e63-6e46-4305-a636-245424c58a24",
   "metadata": {},
   "outputs": [
    {
     "data": {
      "application/vnd.jupyter.widget-view+json": {
       "model_id": "314ce722ba944ab39f31c16465898bd2",
       "version_major": 2,
       "version_minor": 0
      },
      "text/plain": [
       "Loading checkpoint shards:   0%|          | 0/2 [00:00<?, ?it/s]"
      ]
     },
     "metadata": {},
     "output_type": "display_data"
    }
   ],
   "source": [
    "model  = AutoModelForCausalLM.from_pretrained(\n",
    "        \"NousResearch/Llama-2-7b-chat-hf\",\n",
    "        low_cpu_mem_usage=True,\n",
    "        torch_dtype=torch.float32,\n",
    "        load_in_4bit=False,\n",
    "        ).cuda()\n",
    "# model = peft.PeftModel.from_pretrained(model,path_to_checkpoint, torch_dtype=torch.float16)\n",
    "# model = model.merge_and_unload().cuda()\n",
    "tokenizer = AutoTokenizer.from_pretrained(path_to_checkpoint)\n",
    "tokenizer.pad_token = tokenizer.eos_token"
   ]
  },
  {
   "cell_type": "code",
   "execution_count": 48,
   "id": "a70094cc-ebed-4473-97ec-e02e9b4d4237",
   "metadata": {},
   "outputs": [
    {
     "data": {
      "text/plain": [
       "'</s>'"
      ]
     },
     "execution_count": 48,
     "metadata": {},
     "output_type": "execute_result"
    }
   ],
   "source": [
    "tokenizer.pad_token"
   ]
  },
  {
   "cell_type": "code",
   "execution_count": 49,
   "id": "8e55afe5-fa27-4770-9e6a-1248d18858f7",
   "metadata": {},
   "outputs": [
    {
     "name": "stdout",
     "output_type": "stream",
     "text": [
      "['../datasets/augmented_gold_4310.csv', '../datasets/new_DINO_gold_dataset_with_prompt_boxes.csv', '../datasets/DINO_gold_dataset_with_prompt_boxes_new_ranked_by_new_strategy.csv', '../datasets/augmeted_gold', '../datasets/augmented_gold_2', '../datasets/gold_descriptions_with_bboxes.csv', '../datasets/augmented_gold.csv']\n",
      "../datasets/DINO_gold_dataset_with_prompt_boxes_new_ranked_by_new_strategy.csv\n"
     ]
    }
   ],
   "source": [
    "datasets = glob.glob(\"../datasets/*\")\n",
    "print(datasets)\n",
    "dataset = datasets[2]\n",
    "print(dataset)"
   ]
  },
  {
   "cell_type": "code",
   "execution_count": 50,
   "id": "3e1b29ed-4733-46e6-8987-6b8e7f478a05",
   "metadata": {},
   "outputs": [],
   "source": [
    "data = pd.read_csv(dataset, header=0)\n",
    "data = data[:len(data)+100].reset_index(drop=True)"
   ]
  },
  {
   "cell_type": "code",
   "execution_count": 51,
   "id": "52e08689-d701-439b-a170-e6a2bedd2716",
   "metadata": {},
   "outputs": [
    {
     "data": {
      "text/html": [
       "<div>\n",
       "<style scoped>\n",
       "    .dataframe tbody tr th:only-of-type {\n",
       "        vertical-align: middle;\n",
       "    }\n",
       "\n",
       "    .dataframe tbody tr th {\n",
       "        vertical-align: top;\n",
       "    }\n",
       "\n",
       "    .dataframe thead th {\n",
       "        text-align: right;\n",
       "    }\n",
       "</style>\n",
       "<table border=\"1\" class=\"dataframe\">\n",
       "  <thead>\n",
       "    <tr style=\"text-align: right;\">\n",
       "      <th></th>\n",
       "      <th>id</th>\n",
       "      <th>item_id</th>\n",
       "      <th>true_bbox</th>\n",
       "      <th>prompt</th>\n",
       "      <th>correct</th>\n",
       "      <th>rejected</th>\n",
       "      <th>iou_correct</th>\n",
       "      <th>score_correct</th>\n",
       "      <th>harmonic_correct</th>\n",
       "      <th>iou_rejected</th>\n",
       "      <th>score_rejected</th>\n",
       "      <th>harmonic_rejected</th>\n",
       "      <th>description_bbox</th>\n",
       "    </tr>\n",
       "  </thead>\n",
       "  <tbody>\n",
       "    <tr>\n",
       "      <th>0</th>\n",
       "      <td>0</td>\n",
       "      <td>potato_3_2</td>\n",
       "      <td>[241, 455, 122, 96]</td>\n",
       "      <td>Paraphrase sentence: A single small red skinne...</td>\n",
       "      <td>Sure! Here is a paraphrase of the sentence \"A...</td>\n",
       "      <td>Great job! Here's another sentence for you to...</td>\n",
       "      <td>0.800322</td>\n",
       "      <td>0.443368</td>\n",
       "      <td>0.443368</td>\n",
       "      <td>0.000000</td>\n",
       "      <td>0.255156</td>\n",
       "      <td>0.000000</td>\n",
       "      <td>[255.00111 451.65884 368.54495 548.167  ]</td>\n",
       "    </tr>\n",
       "    <tr>\n",
       "      <th>1</th>\n",
       "      <td>1</td>\n",
       "      <td>potato_3_2</td>\n",
       "      <td>[241, 455, 122, 96]</td>\n",
       "      <td>Paraphrase sentence:  Sure, here's a paraphras...</td>\n",
       "      <td>Sure! Here's a paraphrased sentence:\\n\\nEvery...</td>\n",
       "      <td>Sure, here's a paraphrase of the sentence:\\n\\...</td>\n",
       "      <td>0.000000</td>\n",
       "      <td>0.368007</td>\n",
       "      <td>0.000000</td>\n",
       "      <td>0.066152</td>\n",
       "      <td>0.332694</td>\n",
       "      <td>0.000000</td>\n",
       "      <td>[254.7338  451.76404 367.89304 547.7657 ]</td>\n",
       "    </tr>\n",
       "    <tr>\n",
       "      <th>2</th>\n",
       "      <td>2</td>\n",
       "      <td>potato_3_2</td>\n",
       "      <td>[241, 455, 122, 96]</td>\n",
       "      <td>Paraphrase sentence:  Sure! Here's a paraphras...</td>\n",
       "      <td>Sure! Here's a paraphrase of the sentence \"Th...</td>\n",
       "      <td>Here's a paraphrased sentence based on the or...</td>\n",
       "      <td>0.801067</td>\n",
       "      <td>0.686425</td>\n",
       "      <td>0.686425</td>\n",
       "      <td>0.800926</td>\n",
       "      <td>0.677598</td>\n",
       "      <td>0.677598</td>\n",
       "      <td>[254.74559 451.64456 367.87296 547.57245]</td>\n",
       "    </tr>\n",
       "    <tr>\n",
       "      <th>3</th>\n",
       "      <td>3</td>\n",
       "      <td>potato_3_2</td>\n",
       "      <td>[241, 455, 122, 96]</td>\n",
       "      <td>Paraphrase sentence:  Sure! Here's a paraphras...</td>\n",
       "      <td>A whole, unpeeled raw potato, with its red sk...</td>\n",
       "      <td>Great job! Here's another sentence for you to...</td>\n",
       "      <td>-1.000000</td>\n",
       "      <td>0.000000</td>\n",
       "      <td>0.000000</td>\n",
       "      <td>0.000000</td>\n",
       "      <td>0.255156</td>\n",
       "      <td>0.000000</td>\n",
       "      <td>[254.84712 451.48953 367.63223 547.0346 ]</td>\n",
       "    </tr>\n",
       "    <tr>\n",
       "      <th>4</th>\n",
       "      <td>4</td>\n",
       "      <td>potato_3_2</td>\n",
       "      <td>[241, 455, 122, 96]</td>\n",
       "      <td>Paraphrase sentence:  Sure! Here's a paraphras...</td>\n",
       "      <td>a red potato</td>\n",
       "      <td>Sure! Here's a paraphrased version of the sen...</td>\n",
       "      <td>0.787768</td>\n",
       "      <td>0.901243</td>\n",
       "      <td>0.901243</td>\n",
       "      <td>0.802944</td>\n",
       "      <td>0.750968</td>\n",
       "      <td>0.750968</td>\n",
       "      <td>[255.03188 451.55417 367.70886 547.68024]</td>\n",
       "    </tr>\n",
       "    <tr>\n",
       "      <th>...</th>\n",
       "      <td>...</td>\n",
       "      <td>...</td>\n",
       "      <td>...</td>\n",
       "      <td>...</td>\n",
       "      <td>...</td>\n",
       "      <td>...</td>\n",
       "      <td>...</td>\n",
       "      <td>...</td>\n",
       "      <td>...</td>\n",
       "      <td>...</td>\n",
       "      <td>...</td>\n",
       "      <td>...</td>\n",
       "      <td>...</td>\n",
       "    </tr>\n",
       "    <tr>\n",
       "      <th>6999</th>\n",
       "      <td>8101</td>\n",
       "      <td>food_jar_5_3</td>\n",
       "      <td>[280, 360, 109, 186]</td>\n",
       "      <td>Paraphrase sentence:  Sure, here is a paraphra...</td>\n",
       "      <td>Sure, here is a paraphrased sentence based on...</td>\n",
       "      <td>Sure, here is a paraphrased sentence based on...</td>\n",
       "      <td>0.793459</td>\n",
       "      <td>0.845454</td>\n",
       "      <td>0.845454</td>\n",
       "      <td>0.793459</td>\n",
       "      <td>0.845454</td>\n",
       "      <td>0.845454</td>\n",
       "      <td>[292.97968 357.0603  395.4964  555.1996 ]</td>\n",
       "    </tr>\n",
       "    <tr>\n",
       "      <th>7000</th>\n",
       "      <td>8102</td>\n",
       "      <td>food_jar_5_3</td>\n",
       "      <td>[280, 360, 109, 186]</td>\n",
       "      <td>Paraphrase sentence:  Sure, here is a paraphra...</td>\n",
       "      <td>Sure! Here is a paraphrased sentence based on...</td>\n",
       "      <td>Sure! Here is a paraphrased sentence based on...</td>\n",
       "      <td>0.794528</td>\n",
       "      <td>0.805012</td>\n",
       "      <td>0.805012</td>\n",
       "      <td>0.794528</td>\n",
       "      <td>0.805012</td>\n",
       "      <td>0.805012</td>\n",
       "      <td>[293.0345  356.76077 394.951   554.61487]</td>\n",
       "    </tr>\n",
       "    <tr>\n",
       "      <th>7001</th>\n",
       "      <td>8103</td>\n",
       "      <td>food_jar_5_3</td>\n",
       "      <td>[280, 360, 109, 186]</td>\n",
       "      <td>Paraphrase sentence:  Sure! Here is a paraphra...</td>\n",
       "      <td>Sure, here is a paraphrased sentence based on...</td>\n",
       "      <td>Sure, here is a paraphrased sentence:\\n\\nThis...</td>\n",
       "      <td>0.791717</td>\n",
       "      <td>0.824352</td>\n",
       "      <td>0.824352</td>\n",
       "      <td>0.787399</td>\n",
       "      <td>0.815363</td>\n",
       "      <td>0.815363</td>\n",
       "      <td>[292.58356 356.39862 394.94055 554.464  ]</td>\n",
       "    </tr>\n",
       "    <tr>\n",
       "      <th>7002</th>\n",
       "      <td>8104</td>\n",
       "      <td>food_jar_5_3</td>\n",
       "      <td>[280, 360, 109, 186]</td>\n",
       "      <td>Paraphrase sentence:  Sure, here is a paraphra...</td>\n",
       "      <td>Sure, here is a paraphrased sentence based on...</td>\n",
       "      <td>Sure! Here is a paraphrased sentence based on...</td>\n",
       "      <td>0.791717</td>\n",
       "      <td>0.824352</td>\n",
       "      <td>0.824352</td>\n",
       "      <td>0.794528</td>\n",
       "      <td>0.805012</td>\n",
       "      <td>0.805012</td>\n",
       "      <td>[293.1446  356.99127 394.7295  554.54425]</td>\n",
       "    </tr>\n",
       "    <tr>\n",
       "      <th>7003</th>\n",
       "      <td>8105</td>\n",
       "      <td>food_jar_5_3</td>\n",
       "      <td>[280, 360, 109, 186]</td>\n",
       "      <td>Paraphrase sentence:  Sure, here is a paraphra...</td>\n",
       "      <td>Sure, here is a paraphrased sentence based on...</td>\n",
       "      <td>Sure, here is a paraphrased sentence:\\n\\nThis...</td>\n",
       "      <td>0.791717</td>\n",
       "      <td>0.824352</td>\n",
       "      <td>0.824352</td>\n",
       "      <td>0.787399</td>\n",
       "      <td>0.815363</td>\n",
       "      <td>0.815363</td>\n",
       "      <td>[292.57626 356.25153 395.3234  554.42975]</td>\n",
       "    </tr>\n",
       "  </tbody>\n",
       "</table>\n",
       "<p>7004 rows × 13 columns</p>\n",
       "</div>"
      ],
      "text/plain": [
       "        id       item_id             true_bbox  \\\n",
       "0        0    potato_3_2   [241, 455, 122, 96]   \n",
       "1        1    potato_3_2   [241, 455, 122, 96]   \n",
       "2        2    potato_3_2   [241, 455, 122, 96]   \n",
       "3        3    potato_3_2   [241, 455, 122, 96]   \n",
       "4        4    potato_3_2   [241, 455, 122, 96]   \n",
       "...    ...           ...                   ...   \n",
       "6999  8101  food_jar_5_3  [280, 360, 109, 186]   \n",
       "7000  8102  food_jar_5_3  [280, 360, 109, 186]   \n",
       "7001  8103  food_jar_5_3  [280, 360, 109, 186]   \n",
       "7002  8104  food_jar_5_3  [280, 360, 109, 186]   \n",
       "7003  8105  food_jar_5_3  [280, 360, 109, 186]   \n",
       "\n",
       "                                                 prompt  \\\n",
       "0     Paraphrase sentence: A single small red skinne...   \n",
       "1     Paraphrase sentence:  Sure, here's a paraphras...   \n",
       "2     Paraphrase sentence:  Sure! Here's a paraphras...   \n",
       "3     Paraphrase sentence:  Sure! Here's a paraphras...   \n",
       "4     Paraphrase sentence:  Sure! Here's a paraphras...   \n",
       "...                                                 ...   \n",
       "6999  Paraphrase sentence:  Sure, here is a paraphra...   \n",
       "7000  Paraphrase sentence:  Sure, here is a paraphra...   \n",
       "7001  Paraphrase sentence:  Sure! Here is a paraphra...   \n",
       "7002  Paraphrase sentence:  Sure, here is a paraphra...   \n",
       "7003  Paraphrase sentence:  Sure, here is a paraphra...   \n",
       "\n",
       "                                                correct  \\\n",
       "0      Sure! Here is a paraphrase of the sentence \"A...   \n",
       "1      Sure! Here's a paraphrased sentence:\\n\\nEvery...   \n",
       "2      Sure! Here's a paraphrase of the sentence \"Th...   \n",
       "3      A whole, unpeeled raw potato, with its red sk...   \n",
       "4                                          a red potato   \n",
       "...                                                 ...   \n",
       "6999   Sure, here is a paraphrased sentence based on...   \n",
       "7000   Sure! Here is a paraphrased sentence based on...   \n",
       "7001   Sure, here is a paraphrased sentence based on...   \n",
       "7002   Sure, here is a paraphrased sentence based on...   \n",
       "7003   Sure, here is a paraphrased sentence based on...   \n",
       "\n",
       "                                               rejected  iou_correct  \\\n",
       "0      Great job! Here's another sentence for you to...     0.800322   \n",
       "1      Sure, here's a paraphrase of the sentence:\\n\\...     0.000000   \n",
       "2      Here's a paraphrased sentence based on the or...     0.801067   \n",
       "3      Great job! Here's another sentence for you to...    -1.000000   \n",
       "4      Sure! Here's a paraphrased version of the sen...     0.787768   \n",
       "...                                                 ...          ...   \n",
       "6999   Sure, here is a paraphrased sentence based on...     0.793459   \n",
       "7000   Sure! Here is a paraphrased sentence based on...     0.794528   \n",
       "7001   Sure, here is a paraphrased sentence:\\n\\nThis...     0.791717   \n",
       "7002   Sure! Here is a paraphrased sentence based on...     0.791717   \n",
       "7003   Sure, here is a paraphrased sentence:\\n\\nThis...     0.791717   \n",
       "\n",
       "      score_correct  harmonic_correct  iou_rejected  score_rejected  \\\n",
       "0          0.443368          0.443368      0.000000        0.255156   \n",
       "1          0.368007          0.000000      0.066152        0.332694   \n",
       "2          0.686425          0.686425      0.800926        0.677598   \n",
       "3          0.000000          0.000000      0.000000        0.255156   \n",
       "4          0.901243          0.901243      0.802944        0.750968   \n",
       "...             ...               ...           ...             ...   \n",
       "6999       0.845454          0.845454      0.793459        0.845454   \n",
       "7000       0.805012          0.805012      0.794528        0.805012   \n",
       "7001       0.824352          0.824352      0.787399        0.815363   \n",
       "7002       0.824352          0.824352      0.794528        0.805012   \n",
       "7003       0.824352          0.824352      0.787399        0.815363   \n",
       "\n",
       "      harmonic_rejected                           description_bbox  \n",
       "0              0.000000  [255.00111 451.65884 368.54495 548.167  ]  \n",
       "1              0.000000  [254.7338  451.76404 367.89304 547.7657 ]  \n",
       "2              0.677598  [254.74559 451.64456 367.87296 547.57245]  \n",
       "3              0.000000  [254.84712 451.48953 367.63223 547.0346 ]  \n",
       "4              0.750968  [255.03188 451.55417 367.70886 547.68024]  \n",
       "...                 ...                                        ...  \n",
       "6999           0.845454  [292.97968 357.0603  395.4964  555.1996 ]  \n",
       "7000           0.805012  [293.0345  356.76077 394.951   554.61487]  \n",
       "7001           0.815363  [292.58356 356.39862 394.94055 554.464  ]  \n",
       "7002           0.805012  [293.1446  356.99127 394.7295  554.54425]  \n",
       "7003           0.815363  [292.57626 356.25153 395.3234  554.42975]  \n",
       "\n",
       "[7004 rows x 13 columns]"
      ]
     },
     "execution_count": 51,
     "metadata": {},
     "output_type": "execute_result"
    }
   ],
   "source": [
    "data"
   ]
  },
  {
   "cell_type": "code",
   "execution_count": 52,
   "id": "b16292e6-ee97-4878-969d-1cd34afa79d5",
   "metadata": {},
   "outputs": [],
   "source": [
    "def scrap_sentence(output):\n",
    "    output = output[0].split('[/INST]')[1]\n",
    "    output = output.replace('\\n','')\n",
    "    return output.split('.')[0]\n",
    "\n",
    "def sentence_to_vis(sentence):\n",
    "    words = sentence.split()\n",
    "    new_sentence = \"\"\n",
    "    for i,word in enumerate(words):\n",
    "        new_sentence += f\"{word} \"\n",
    "        if i%3 == 0:\n",
    "            new_sentence += \"\\n\"\n",
    "    return new_sentence"
   ]
  },
  {
   "cell_type": "code",
   "execution_count": 96,
   "id": "63d19afb-a13b-4f3f-b271-3653740260a4",
   "metadata": {},
   "outputs": [],
   "source": [
    "\n",
    "def split_prompt(prompt):\n",
    "    if \":\" in prompt:\n",
    "        return prompt.split(\":\")[1]\n",
    "    return prompt\n",
    "    \n",
    "def prepare_h_prompt(promt):\n",
    "    if \":\" in promt:\n",
    "        if promt.count(\":\") == 2:\n",
    "            parts = promt.split(\":\")\n",
    "            return f\"{parts[0]}:{parts[2]}\"\n",
    "        else:\n",
    "            parts = promt.split(\":\")\n",
    "            return f\"{parts[0]}:{parts[1]}\"\n",
    "    return prompt\n",
    "\n",
    "def reframe(my_prompt):\n",
    "    prompt = tokenizer(my_prompt,return_tensors=\"pt\").input_ids\n",
    "    instruction  = my_prompt.replace(\"[INST] Paraphrase sentence:\", \"\").replace(\"[/INST]\", \"\").replace(\"\\n\", \"\")\n",
    "    output_tensor = model.generate(torch.Tensor(prompt).cuda(),  max_new_tokens=300, do_sample=False)\n",
    "    output = tokenizer.batch_decode(output_tensor, skip_special_tokens=True)\n",
    "    return scrap_sentence(output)\n",
    "\n",
    "i = 99\n",
    "my_prompt = prepare_h_prompt(f\"[INST] {data['prompt'][i]} [/INST]\")\n"
   ]
  },
  {
   "cell_type": "code",
   "execution_count": 90,
   "id": "0b511992-30b2-46fe-8911-2cba4f3c38e7",
   "metadata": {},
   "outputs": [
    {
     "data": {
      "text/plain": [
       "'[INST] Paraphrase sentence:\\n\\nA specialized device used to open cans with a blue handle [/INST]'"
      ]
     },
     "execution_count": 90,
     "metadata": {},
     "output_type": "execute_result"
    }
   ],
   "source": [
    "my_prompt"
   ]
  },
  {
   "cell_type": "code",
   "execution_count": 122,
   "id": "2fb7f7cf-59ef-46dd-a80a-e63bcc3fd5c5",
   "metadata": {},
   "outputs": [
    {
     "name": "stdout",
     "output_type": "stream",
     "text": [
      "final text_encoder_type: bert-base-uncased\n"
     ]
    }
   ],
   "source": [
    "\n",
    "path_to_imgs='../gold/images/RGB_raw/'\n",
    "detector = BaseDetector(\"Dino\")\n",
    "\n",
    "i = 80\n",
    "my_prompt = prepare_h_prompt(f\"[INST] {data['prompt'][i]} [/INST]\")\n",
    "output = reframe(my_prompt)\n",
    "prompt_tuned = split_prompt(output)\n",
    "prompt = split_prompt(my_prompt)\n",
    "\n",
    "real_bbox, prompt_bbox, prompt_pred_score, output, name = get_predictions(i, data, prompt, detector, path_to_imgs)\n",
    "real_bbox, predicted_bbox, pred_score, output, name = get_predictions(i, data, prompt_tuned, detector, path_to_imgs)\n"
   ]
  },
  {
   "cell_type": "code",
   "execution_count": 123,
   "id": "88e59431-59c3-4e6a-9702-f6cff339f100",
   "metadata": {},
   "outputs": [
    {
     "name": "stderr",
     "output_type": "stream",
     "text": [
      "Clipping input data to the valid range for imshow with RGB data ([0..1] for floats or [0..255] for integers).\n",
      "Clipping input data to the valid range for imshow with RGB data ([0..1] for floats or [0..255] for integers).\n"
     ]
    },
    {
     "name": "stdout",
     "output_type": "stream",
     "text": [
      "a [241. 455. 363. 551.]\n",
      "b [254.09085 450.72415 365.69376 545.64545]\n",
      "a [241. 455. 363. 551.]\n",
      "b [255.06726 451.50436 365.01263 544.54614]\n"
     ]
    },
    {
     "name": "stderr",
     "output_type": "stream",
     "text": [
      "Clipping input data to the valid range for imshow with RGB data ([0..1] for floats or [0..255] for integers).\n"
     ]
    },
    {
     "data": {
      "text/plain": [
       "Text(0.5, 1.0, 'GROUND TRUE BBOX')"
      ]
     },
     "execution_count": 123,
     "metadata": {},
     "output_type": "execute_result"
    },
    {
     "data": {
      "image/png": "[encoded data removed]",
      "text/plain": [
       "<Figure size 1500x500 with 3 Axes>"
      ]
     },
     "metadata": {},
     "output_type": "display_data"
    }
   ],
   "source": [
    "plt.figure(figsize=(15,5))\n",
    "iou_score_old = (float(box_iou(real_bbox, prompt_bbox)))\n",
    "iou_score_tuned = (float(box_iou(real_bbox, predicted_bbox)))\n",
    "\n",
    "image = plt.imread(path_to_imgs+name)\n",
    "image = cv2.rectangle(image, (int(prompt_bbox[0]), int(prompt_bbox[1])), (int(prompt_bbox[2]), int(prompt_bbox[3])), (0, 0, 255), 4)\n",
    "cv2.putText(image, 'prompt', (int(prompt_bbox[0]), int(prompt_bbox[1])-10), cv2.FONT_HERSHEY_SIMPLEX, 0.9, (0,0,255), 4)\n",
    "plt.subplot(1,3,1)\n",
    "plt.imshow(image)\n",
    "plt.title(f\"{sentence_to_vis(prompt)}, \\n \\n  t = {prompt_pred_score} \\n iou = {iou_score_old}\")\n",
    "\n",
    "\n",
    "image = plt.imread(path_to_imgs+name)\n",
    "image = cv2.rectangle(image, (int(predicted_bbox[0]), int(predicted_bbox[1])), (int(predicted_bbox[2]), int(predicted_bbox[3])), (255, 0, 0), 2)\n",
    "cv2.putText(image, 'tuned_prompt', (int(predicted_bbox[0]), int(predicted_bbox[1])-10), cv2.FONT_HERSHEY_SIMPLEX, 0.9, (255,0,0), 2)\n",
    "plt.subplot(1,3,2)\n",
    "plt.imshow(image)\n",
    "plt.title(f\"{sentence_to_vis(prompt_tuned)}, \\n \\n  t = {pred_score} \\n iou = {iou_score_tuned}\")\n",
    "\n",
    "image = plt.imread(path_to_imgs+name)\n",
    "image = cv2.rectangle(image, (int(real_bbox[0]), int(real_bbox[1])), (int(real_bbox[2]), int(real_bbox[3])), (1,255,1), 2)\n",
    "cv2.putText(image, 'gt', (int(real_bbox[0]), int(real_bbox[1])-10), cv2.FONT_HERSHEY_SIMPLEX, 0.9, (1,255,1), 2)\n",
    "plt.subplot(1,3,3)\n",
    "plt.imshow(image)\n",
    "plt.title(\"GROUND TRUE BBOX\")"
   ]
  },
  {
   "cell_type": "code",
   "execution_count": 144,
   "id": "ac88749e-5d1f-4578-8a9f-0f8110045ede",
   "metadata": {},
   "outputs": [
    {
     "name": "stdout",
     "output_type": "stream",
     "text": [
      "final text_encoder_type: bert-base-uncased\n"
     ]
    },
    {
     "name": "stderr",
     "output_type": "stream",
     "text": [
      "  0%|                                                                                                                                                                                | 0/90 [00:00<?, ?it/s]/home/volovikova/mambaforge/envs/tuning/lib/python3.8/site-packages/transformers/generation/utils.py:1270: UserWarning: You have modified the pretrained model configuration to control generation. This is a deprecated strategy to control generation and will be removed soon, in a future version. Please use a generation configuration file (see https://huggingface.co/docs/transformers/main_classes/text_generation )\n",
      "  warnings.warn(\n",
      "/home/volovikova/mambaforge/envs/tuning/lib/python3.8/site-packages/transformers/modeling_utils.py:881: FutureWarning: The `device` argument is deprecated and will be removed in v5 of Transformers.\n",
      "  warnings.warn(\n",
      "/home/volovikova/mambaforge/envs/tuning/lib/python3.8/site-packages/torch/utils/checkpoint.py:460: UserWarning: torch.utils.checkpoint: please pass in use_reentrant=True or use_reentrant=False explicitly. The default value of use_reentrant will be updated to be False in the future. To maintain current behavior, pass use_reentrant=True. It is recommended that you use use_reentrant=False. Refer to docs for more details on the differences between the two variants.\n",
      "  warnings.warn(\n",
      "/home/volovikova/mambaforge/envs/tuning/lib/python3.8/site-packages/torch/utils/checkpoint.py:90: UserWarning: None of the inputs have requires_grad=True. Gradients will be None\n",
      "  warnings.warn(\n",
      "  1%|█▊                                                                                                                                                                      | 1/90 [00:04<06:33,  4.42s/it]"
     ]
    },
    {
     "name": "stdout",
     "output_type": "stream",
     "text": [
      "a [241. 455. 363. 551.]\n",
      "b [255.12698 451.5247  367.15182 546.7494 ]\n",
      "a [241. 455. 363. 551.]\n",
      "b [255.142   451.8993  367.10696 546.9031 ]\n"
     ]
    },
    {
     "name": "stderr",
     "output_type": "stream",
     "text": [
      "  2%|███▋                                                                                                                                                                    | 2/90 [00:07<05:14,  3.58s/it]"
     ]
    },
    {
     "name": "stdout",
     "output_type": "stream",
     "text": [
      "a [241. 455. 363. 551.]\n",
      "b [254.83113 451.40622 367.11816 547.1075 ]\n",
      "a [241. 455. 363. 551.]\n",
      "b [254.6911  451.36343 368.242   547.83264]\n"
     ]
    },
    {
     "name": "stderr",
     "output_type": "stream",
     "text": [
      "  3%|█████▌                                                                                                                                                                  | 3/90 [00:09<04:02,  2.79s/it]"
     ]
    },
    {
     "name": "stdout",
     "output_type": "stream",
     "text": [
      "a [241. 455. 363. 551.]\n",
      "b [254.58722 450.9797  367.11377 546.3809 ]\n",
      "a [241. 455. 363. 551.]\n",
      "b [254.79643 451.0358  366.70392 546.27515]\n"
     ]
    },
    {
     "name": "stderr",
     "output_type": "stream",
     "text": [
      "  4%|███████▍                                                                                                                                                                | 4/90 [00:10<03:10,  2.22s/it]"
     ]
    },
    {
     "name": "stdout",
     "output_type": "stream",
     "text": [
      "a [241. 455. 363. 551.]\n",
      "b [254.38528 450.61807 366.1453  545.72284]\n",
      "a [241. 455. 363. 551.]\n",
      "b [254.8132  451.20633 367.04984 546.2787 ]\n"
     ]
    },
    {
     "name": "stderr",
     "output_type": "stream",
     "text": [
      "  6%|█████████▎                                                                                                                                                              | 5/90 [00:12<02:59,  2.11s/it]"
     ]
    },
    {
     "name": "stdout",
     "output_type": "stream",
     "text": [
      "a [241. 455. 363. 551.]\n",
      "b [254.85202 451.18442 365.29538 545.0704 ]\n",
      "a [241. 455. 363. 551.]\n",
      "b [254.86847 451.17682 368.3374  547.4748 ]\n"
     ]
    },
    {
     "name": "stderr",
     "output_type": "stream",
     "text": [
      "  7%|███████████▏                                                                                                                                                            | 6/90 [00:14<02:49,  2.01s/it]"
     ]
    },
    {
     "name": "stdout",
     "output_type": "stream",
     "text": [
      "a [241. 455. 363. 551.]\n",
      "b [255.20633 451.52655 366.6384  545.91266]\n",
      "a [241. 455. 363. 551.]\n",
      "b [255.10928 451.74817 367.1633  546.64166]\n"
     ]
    },
    {
     "name": "stderr",
     "output_type": "stream",
     "text": [
      "  8%|█████████████                                                                                                                                                           | 7/90 [00:15<02:34,  1.86s/it]"
     ]
    },
    {
     "name": "stdout",
     "output_type": "stream",
     "text": [
      "a [247. 472. 420. 555.]\n",
      "b [244.28525 464.55554 423.18307 557.8705 ]\n",
      "a [247. 472. 420. 555.]\n",
      "b [244.91089 466.58643 424.95123 559.5464 ]\n"
     ]
    },
    {
     "name": "stderr",
     "output_type": "stream",
     "text": [
      "  9%|██████████████▉                                                                                                                                                         | 8/90 [00:18<02:58,  2.17s/it]"
     ]
    },
    {
     "name": "stdout",
     "output_type": "stream",
     "text": [
      "a [247. 472. 420. 555.]\n",
      "b [244.79504 466.20016 425.25122 559.8759 ]\n",
      "a [247. 472. 420. 555.]\n",
      "b [244.99341 466.39008 425.33948 559.7872 ]\n"
     ]
    },
    {
     "name": "stderr",
     "output_type": "stream",
     "text": [
      " 10%|████████████████▊                                                                                                                                                       | 9/90 [00:20<02:53,  2.15s/it]"
     ]
    },
    {
     "name": "stdout",
     "output_type": "stream",
     "text": [
      "a [247. 472. 420. 555.]\n",
      "b [ 76.720764 466.36832  591.55865  751.57935 ]\n",
      "a [247. 472. 420. 555.]\n",
      "b [245.01509 466.64456 424.1305  559.11743]\n"
     ]
    },
    {
     "name": "stderr",
     "output_type": "stream",
     "text": [
      " 11%|██████████████████▌                                                                                                                                                    | 10/90 [00:22<02:35,  1.94s/it]"
     ]
    },
    {
     "name": "stdout",
     "output_type": "stream",
     "text": [
      "a [247. 472. 420. 555.]\n",
      "b [244.43912 465.13922 424.5422  559.29474]\n",
      "a [247. 472. 420. 555.]\n",
      "b [245.02109 466.70523 425.35178 559.668  ]\n"
     ]
    },
    {
     "name": "stderr",
     "output_type": "stream",
     "text": [
      " 12%|████████████████████▍                                                                                                                                                  | 11/90 [00:26<03:18,  2.52s/it]"
     ]
    },
    {
     "name": "stdout",
     "output_type": "stream",
     "text": [
      "a [272. 473. 393. 561.]\n",
      "b [281.1074  470.10614 395.84048 555.59454]\n",
      "a [272. 473. 393. 561.]\n",
      "b [281.25113 470.22815 396.76163 556.3097 ]\n"
     ]
    },
    {
     "name": "stderr",
     "output_type": "stream",
     "text": [
      " 13%|██████████████████████▎                                                                                                                                                | 12/90 [00:28<03:12,  2.47s/it]"
     ]
    },
    {
     "name": "stdout",
     "output_type": "stream",
     "text": [
      "a [272. 473. 393. 561.]\n",
      "b [281.2147  469.854   395.39243 554.9407 ]\n",
      "a [272. 473. 393. 561.]\n",
      "b [281.80292 471.06686 396.71362 556.1568 ]\n"
     ]
    },
    {
     "name": "stderr",
     "output_type": "stream",
     "text": [
      " 14%|████████████████████████                                                                                                                                               | 13/90 [00:32<03:43,  2.90s/it]"
     ]
    },
    {
     "name": "stdout",
     "output_type": "stream",
     "text": [
      "a [272. 473. 393. 561.]\n",
      "b [ 77.054474 467.4568   592.5145   751.109   ]\n",
      "a [272. 473. 393. 561.]\n",
      "b [281.66827 471.0475  397.0551  556.7648 ]\n"
     ]
    },
    {
     "name": "stderr",
     "output_type": "stream",
     "text": [
      " 17%|███████████████████████████▊                                                                                                                                           | 15/90 [00:37<03:36,  2.89s/it]"
     ]
    },
    {
     "name": "stdout",
     "output_type": "stream",
     "text": [
      "a [272. 473. 393. 561.]\n",
      "b [281.0466  470.29007 397.11923 557.27356]\n",
      "a [272. 473. 393. 561.]\n",
      "b [281.04593 470.3937  397.618   557.5207 ]\n"
     ]
    },
    {
     "name": "stderr",
     "output_type": "stream",
     "text": [
      " 18%|█████████████████████████████▋                                                                                                                                         | 16/90 [00:40<03:34,  2.90s/it]"
     ]
    },
    {
     "name": "stdout",
     "output_type": "stream",
     "text": [
      "a [241. 490. 493. 572.]\n",
      "b [ 71.616455 452.1579   596.25085  753.48175 ]\n",
      "a [241. 490. 493. 572.]\n",
      "b [241.8061  485.19476 496.49554 575.9428 ]\n"
     ]
    },
    {
     "name": "stderr",
     "output_type": "stream",
     "text": [
      " 19%|███████████████████████████████▌                                                                                                                                       | 17/90 [00:43<03:34,  2.94s/it]"
     ]
    },
    {
     "name": "stdout",
     "output_type": "stream",
     "text": [
      "a [241. 490. 493. 572.]\n",
      "b [241.64664 485.11633 495.46384 575.2971 ]\n",
      "a [241. 490. 493. 572.]\n",
      "b [241.79199 484.99753 495.97778 575.7223 ]\n"
     ]
    },
    {
     "name": "stderr",
     "output_type": "stream",
     "text": [
      " 20%|█████████████████████████████████▍                                                                                                                                     | 18/90 [00:45<03:14,  2.71s/it]"
     ]
    },
    {
     "name": "stdout",
     "output_type": "stream",
     "text": [
      "a [241. 490. 493. 572.]\n",
      "b [241.82367 485.2017  494.46875 574.13574]\n",
      "a [241. 490. 493. 572.]\n",
      "b [241.64592 485.1506  496.3371  576.04565]\n"
     ]
    },
    {
     "name": "stderr",
     "output_type": "stream",
     "text": [
      " 21%|███████████████████████████████████▎                                                                                                                                   | 19/90 [00:48<03:18,  2.80s/it]"
     ]
    },
    {
     "name": "stdout",
     "output_type": "stream",
     "text": [
      "a [241. 490. 493. 572.]\n",
      "b [241.40236 484.80704 495.32013 575.28406]\n",
      "a [241. 490. 493. 572.]\n",
      "b [241.8552  485.08035 494.82376 574.5255 ]\n"
     ]
    },
    {
     "name": "stderr",
     "output_type": "stream",
     "text": [
      " 22%|█████████████████████████████████████                                                                                                                                  | 20/90 [00:51<03:01,  2.59s/it]"
     ]
    },
    {
     "name": "stdout",
     "output_type": "stream",
     "text": [
      "a [241. 490. 493. 572.]\n",
      "b [241.81747 484.95117 494.2239  574.056  ]\n",
      "a [241. 490. 493. 572.]\n",
      "b [241.65152 485.0611  496.02744 575.75946]\n"
     ]
    },
    {
     "name": "stderr",
     "output_type": "stream",
     "text": [
      " 23%|██████████████████████████████████████▉                                                                                                                                | 21/90 [00:54<03:08,  2.73s/it]"
     ]
    },
    {
     "name": "stdout",
     "output_type": "stream",
     "text": [
      "a [241. 490. 493. 572.]\n",
      "b [241.6766  485.13596 496.84854 576.39026]\n",
      "a [241. 490. 493. 572.]\n",
      "b [242.01949 485.2879  496.92352 576.3752 ]\n"
     ]
    },
    {
     "name": "stderr",
     "output_type": "stream",
     "text": [
      " 24%|████████████████████████████████████████▊                                                                                                                              | 22/90 [00:57<03:14,  2.86s/it]"
     ]
    },
    {
     "name": "stdout",
     "output_type": "stream",
     "text": [
      "a [171. 471. 465. 545.]\n",
      "b [167.57101 466.76215 467.5151  547.80005]\n",
      "a [171. 471. 465. 545.]\n",
      "b [168.69109 468.41852 469.22266 550.37396]\n"
     ]
    },
    {
     "name": "stderr",
     "output_type": "stream",
     "text": [
      " 26%|██████████████████████████████████████████▋                                                                                                                            | 23/90 [01:00<03:27,  3.10s/it]"
     ]
    },
    {
     "name": "stdout",
     "output_type": "stream",
     "text": [
      "a [171. 471. 465. 545.]\n",
      "b [168.31113 468.10516 469.29593 549.83374]\n",
      "a [171. 471. 465. 545.]\n",
      "b [168.49817 468.46164 469.4223  550.1892 ]\n"
     ]
    },
    {
     "name": "stderr",
     "output_type": "stream",
     "text": [
      " 27%|████████████████████████████████████████████▌                                                                                                                          | 24/90 [01:03<03:07,  2.85s/it]"
     ]
    },
    {
     "name": "stdout",
     "output_type": "stream",
     "text": [
      "a [171. 471. 465. 545.]\n",
      "b [167.9007  467.43057 468.26196 548.5619 ]\n",
      "a [171. 471. 465. 545.]\n",
      "b [168.31491 468.2547  468.76224 549.82605]\n"
     ]
    },
    {
     "name": "stderr",
     "output_type": "stream",
     "text": [
      " 28%|██████████████████████████████████████████████▍                                                                                                                        | 25/90 [01:06<03:22,  3.12s/it]"
     ]
    },
    {
     "name": "stdout",
     "output_type": "stream",
     "text": [
      "a [171. 471. 465. 545.]\n",
      "b [168.14221 468.0744  468.07983 549.60236]\n",
      "a [171. 471. 465. 545.]\n",
      "b [168.68297 467.93652 468.81995 549.7509 ]\n"
     ]
    },
    {
     "name": "stderr",
     "output_type": "stream",
     "text": [
      " 29%|████████████████████████████████████████████████▏                                                                                                                      | 26/90 [01:09<03:03,  2.86s/it]"
     ]
    },
    {
     "name": "stdout",
     "output_type": "stream",
     "text": [
      "a [241. 455. 363. 551.]\n",
      "b [255.2951  451.36456 365.00494 544.85693]\n",
      "a [241. 455. 363. 551.]\n",
      "b [254.97678 451.32    364.77194 544.3465 ]\n"
     ]
    },
    {
     "name": "stderr",
     "output_type": "stream",
     "text": [
      " 31%|███████████████████████████████████████████████████▉                                                                                                                   | 28/90 [01:22<04:27,  4.32s/it]"
     ]
    },
    {
     "name": "stdout",
     "output_type": "stream",
     "text": [
      "a [247. 472. 420. 555.]\n",
      "b [243.72568 463.4465  423.30185 557.62683]\n",
      "a [247. 472. 420. 555.]\n",
      "b [ 76.075836 463.2024   591.0591   750.43884 ]\n"
     ]
    },
    {
     "name": "stderr",
     "output_type": "stream",
     "text": [
      " 32%|█████████████████████████████████████████████████████▊                                                                                                                 | 29/90 [01:23<03:27,  3.41s/it]"
     ]
    },
    {
     "name": "stdout",
     "output_type": "stream",
     "text": [
      "a [247. 472. 420. 555.]\n",
      "b [ 75.49841 464.4096  592.9297  752.0368 ]\n",
      "a [247. 472. 420. 555.]\n",
      "b [  4.218231 465.56494  593.9689   753.1123  ]\n"
     ]
    },
    {
     "name": "stderr",
     "output_type": "stream",
     "text": [
      " 33%|███████████████████████████████████████████████████████▋                                                                                                               | 30/90 [01:25<03:10,  3.18s/it]"
     ]
    },
    {
     "name": "stdout",
     "output_type": "stream",
     "text": [
      "a [247. 472. 420. 555.]\n",
      "b [245.00793 467.0565  424.23468 558.82495]\n",
      "a [247. 472. 420. 555.]\n",
      "b [ 76.86203 466.81512 593.1776  752.5921 ]\n"
     ]
    },
    {
     "name": "stderr",
     "output_type": "stream",
     "text": [
      " 34%|█████████████████████████████████████████████████████████▌                                                                                                             | 31/90 [01:28<02:57,  3.01s/it]"
     ]
    },
    {
     "name": "stdout",
     "output_type": "stream",
     "text": [
      "a [247. 472. 420. 555.]\n",
      "b [ 76.01178 465.02728 592.8558  752.029  ]\n",
      "a [247. 472. 420. 555.]\n",
      "b [244.78165 467.14783 424.5021  559.29456]\n"
     ]
    },
    {
     "name": "stderr",
     "output_type": "stream",
     "text": [
      " 36%|███████████████████████████████████████████████████████████▍                                                                                                           | 32/90 [01:30<02:38,  2.74s/it]"
     ]
    },
    {
     "name": "stdout",
     "output_type": "stream",
     "text": [
      "a [247. 472. 420. 555.]\n",
      "b [244.73065 466.45953 424.41125 558.9058 ]\n",
      "a [247. 472. 420. 555.]\n",
      "b [244.90689 467.0886  424.5986  559.20544]\n"
     ]
    },
    {
     "name": "stderr",
     "output_type": "stream",
     "text": [
      " 37%|█████████████████████████████████████████████████████████████▏                                                                                                         | 33/90 [01:34<02:51,  3.01s/it]"
     ]
    },
    {
     "name": "stdout",
     "output_type": "stream",
     "text": [
      "a [247. 472. 420. 555.]\n",
      "b [ 75.01544 463.72018 592.3278  751.4468 ]\n",
      "a [247. 472. 420. 555.]\n",
      "b [  4.350952 466.33588  592.61383  752.3769  ]\n"
     ]
    },
    {
     "name": "stderr",
     "output_type": "stream",
     "text": [
      " 38%|███████████████████████████████████████████████████████████████                                                                                                        | 34/90 [01:36<02:28,  2.65s/it]"
     ]
    },
    {
     "name": "stdout",
     "output_type": "stream",
     "text": [
      "a [272. 473. 393. 561.]\n",
      "b [280.4417  469.02414 395.50488 555.4744 ]\n",
      "a [272. 473. 393. 561.]\n",
      "b [280.35782 468.4546  395.3124  555.7792 ]\n"
     ]
    },
    {
     "name": "stderr",
     "output_type": "stream",
     "text": [
      " 39%|████████████████████████████████████████████████████████████████▉                                                                                                      | 35/90 [01:38<02:29,  2.71s/it]"
     ]
    },
    {
     "name": "stdout",
     "output_type": "stream",
     "text": [
      "a [272. 473. 393. 561.]\n",
      "b [280.5747  468.86407 395.39484 555.11316]\n",
      "a [272. 473. 393. 561.]\n",
      "b [280.37674 468.88138 395.37448 555.2216 ]\n"
     ]
    },
    {
     "name": "stderr",
     "output_type": "stream",
     "text": [
      " 40%|██████████████████████████████████████████████████████████████████▊                                                                                                    | 36/90 [01:40<02:14,  2.50s/it]"
     ]
    },
    {
     "name": "stdout",
     "output_type": "stream",
     "text": [
      "a [272. 473. 393. 561.]\n",
      "b [280.78903 469.5659  395.1465  554.97516]\n",
      "a [272. 473. 393. 561.]\n",
      "b [280.00156 468.46973 395.8517  555.72437]\n"
     ]
    },
    {
     "name": "stderr",
     "output_type": "stream",
     "text": [
      " 41%|████████████████████████████████████████████████████████████████████▋                                                                                                  | 37/90 [01:43<02:19,  2.64s/it]"
     ]
    },
    {
     "name": "stdout",
     "output_type": "stream",
     "text": [
      "a [272. 473. 393. 561.]\n",
      "b [280.40823 468.9466  395.4639  555.612  ]\n",
      "a [272. 473. 393. 561.]\n",
      "b [280.70923 469.48245 395.0475  555.1232 ]\n"
     ]
    },
    {
     "name": "stderr",
     "output_type": "stream",
     "text": [
      " 42%|██████████████████████████████████████████████████████████████████████▌                                                                                                | 38/90 [01:46<02:14,  2.59s/it]"
     ]
    },
    {
     "name": "stdout",
     "output_type": "stream",
     "text": [
      "a [272. 473. 393. 561.]\n",
      "b [ 75.24414 462.98322 591.5681  750.6069 ]\n",
      "a [272. 473. 393. 561.]\n",
      "b [280.61548 469.47507 395.21777 555.0881 ]\n"
     ]
    },
    {
     "name": "stderr",
     "output_type": "stream",
     "text": [
      " 43%|████████████████████████████████████████████████████████████████████████▎                                                                                              | 39/90 [01:49<02:12,  2.60s/it]"
     ]
    },
    {
     "name": "stdout",
     "output_type": "stream",
     "text": [
      "a [272. 473. 393. 561.]\n",
      "b [280.61035 469.288   395.55243 555.3863 ]\n",
      "a [272. 473. 393. 561.]\n",
      "b [280.77618 469.93268 395.2486  555.3752 ]\n"
     ]
    },
    {
     "name": "stderr",
     "output_type": "stream",
     "text": [
      " 44%|██████████████████████████████████████████████████████████████████████████▏                                                                                            | 40/90 [01:51<02:10,  2.61s/it]"
     ]
    },
    {
     "name": "stdout",
     "output_type": "stream",
     "text": [
      "a [241. 490. 493. 572.]\n",
      "b [241.7543 484.4254 494.2891 574.3927]\n",
      "a [241. 490. 493. 572.]\n",
      "b [242.27094 485.6026  493.3363  572.73224]\n"
     ]
    },
    {
     "name": "stderr",
     "output_type": "stream",
     "text": [
      " 46%|████████████████████████████████████████████████████████████████████████████                                                                                           | 41/90 [01:53<01:55,  2.35s/it]"
     ]
    },
    {
     "name": "stdout",
     "output_type": "stream",
     "text": [
      "a [241. 490. 493. 572.]\n",
      "b [241.41399 484.61197 493.8426  573.4592 ]\n",
      "a [241. 490. 493. 572.]\n",
      "b [242.05179 485.37854 493.6412  573.136  ]\n"
     ]
    },
    {
     "name": "stderr",
     "output_type": "stream",
     "text": [
      " 47%|█████████████████████████████████████████████████████████████████████████████▉                                                                                         | 42/90 [01:55<01:44,  2.18s/it]"
     ]
    },
    {
     "name": "stdout",
     "output_type": "stream",
     "text": [
      "a [241. 490. 493. 572.]\n",
      "b [240.98773 483.83566 494.12762 574.17175]\n",
      "a [241. 490. 493. 572.]\n",
      "b [241.49466 483.8977  493.53195 573.7615 ]\n"
     ]
    },
    {
     "name": "stderr",
     "output_type": "stream",
     "text": [
      " 48%|███████████████████████████████████████████████████████████████████████████████▊                                                                                       | 43/90 [01:56<01:33,  1.99s/it]"
     ]
    },
    {
     "name": "stdout",
     "output_type": "stream",
     "text": [
      "a [241. 490. 493. 572.]\n",
      "b [241.43857 484.68567 493.87546 574.1642 ]\n",
      "a [241. 490. 493. 572.]\n",
      "b [  6.8313904 462.6529    592.9834    749.7967   ]\n"
     ]
    },
    {
     "name": "stderr",
     "output_type": "stream",
     "text": [
      " 49%|█████████████████████████████████████████████████████████████████████████████████▋                                                                                     | 44/90 [01:58<01:24,  1.84s/it]"
     ]
    },
    {
     "name": "stdout",
     "output_type": "stream",
     "text": [
      "a [241. 490. 493. 572.]\n",
      "b [  7.7322693 459.55902   594.16284   751.14325  ]\n",
      "a [241. 490. 493. 572.]\n",
      "b [240.73788 484.33383 494.61966 574.9984 ]\n"
     ]
    },
    {
     "name": "stderr",
     "output_type": "stream",
     "text": [
      " 50%|███████████████████████████████████████████████████████████████████████████████████▌                                                                                   | 45/90 [02:00<01:26,  1.92s/it]"
     ]
    },
    {
     "name": "stdout",
     "output_type": "stream",
     "text": [
      "a [241. 490. 493. 572.]\n",
      "b [239.20468 482.60657 495.47983 576.7871 ]\n",
      "a [241. 490. 493. 572.]\n",
      "b [  5.008606 465.15704  591.7525   749.87164 ]\n"
     ]
    },
    {
     "name": "stderr",
     "output_type": "stream",
     "text": [
      " 51%|█████████████████████████████████████████████████████████████████████████████████████▎                                                                                 | 46/90 [02:02<01:25,  1.94s/it]"
     ]
    },
    {
     "name": "stdout",
     "output_type": "stream",
     "text": [
      "a [171. 471. 465. 545.]\n",
      "b [167.47614 466.8114  467.5647  547.6896 ]\n",
      "a [171. 471. 465. 545.]\n",
      "b [167.84857 466.98523 467.06104 547.8323 ]\n"
     ]
    },
    {
     "name": "stderr",
     "output_type": "stream",
     "text": [
      " 52%|███████████████████████████████████████████████████████████████████████████████████████▏                                                                               | 47/90 [02:05<01:35,  2.23s/it]"
     ]
    },
    {
     "name": "stdout",
     "output_type": "stream",
     "text": [
      "a [171. 471. 465. 545.]\n",
      "b [167.40968 467.0379  467.00732 547.7874 ]\n",
      "a [171. 471. 465. 545.]\n",
      "b [168.20538 467.9018  468.1173  549.35455]\n"
     ]
    },
    {
     "name": "stderr",
     "output_type": "stream",
     "text": [
      " 53%|█████████████████████████████████████████████████████████████████████████████████████████                                                                              | 48/90 [02:07<01:36,  2.30s/it]"
     ]
    },
    {
     "name": "stdout",
     "output_type": "stream",
     "text": [
      "a [171. 471. 465. 545.]\n",
      "b [167.71304 467.12164 467.10135 548.24146]\n",
      "a [171. 471. 465. 545.]\n",
      "b [167.55057 467.00598 468.3353  549.3907 ]\n"
     ]
    },
    {
     "name": "stderr",
     "output_type": "stream",
     "text": [
      " 54%|██████████████████████████████████████████████████████████████████████████████████████████▉                                                                            | 49/90 [02:10<01:37,  2.39s/it]"
     ]
    },
    {
     "name": "stdout",
     "output_type": "stream",
     "text": [
      "a [171. 471. 465. 545.]\n",
      "b [168.33275 467.80652 468.56348 549.7569 ]\n",
      "a [171. 471. 465. 545.]\n",
      "b [169.0026  468.5923  469.16245 550.17145]\n"
     ]
    },
    {
     "name": "stderr",
     "output_type": "stream",
     "text": [
      " 56%|████████████████████████████████████████████████████████████████████████████████████████████▊                                                                          | 50/90 [02:13<01:45,  2.63s/it]"
     ]
    },
    {
     "name": "stdout",
     "output_type": "stream",
     "text": [
      "a [171. 471. 465. 545.]\n",
      "b [169.03557 468.7325  468.46643 549.5698 ]\n",
      "a [171. 471. 465. 545.]\n",
      "b [168.55771 468.33398 468.2421  549.3841 ]\n"
     ]
    },
    {
     "name": "stderr",
     "output_type": "stream",
     "text": [
      " 57%|██████████████████████████████████████████████████████████████████████████████████████████████▋                                                                        | 51/90 [02:15<01:34,  2.42s/it]"
     ]
    },
    {
     "name": "stdout",
     "output_type": "stream",
     "text": [
      "a [171. 471. 465. 545.]\n",
      "b [168.23901 467.8166  469.10358 550.4586 ]\n",
      "a [171. 471. 465. 545.]\n",
      "b [169.12973 468.61923 468.98257 550.5058 ]\n"
     ]
    },
    {
     "name": "stderr",
     "output_type": "stream",
     "text": [
      " 58%|████████████████████████████████████████████████████████████████████████████████████████████████▍                                                                      | 52/90 [02:18<01:39,  2.63s/it]"
     ]
    },
    {
     "name": "stdout",
     "output_type": "stream",
     "text": [
      "a [241. 455. 363. 551.]\n",
      "b [255.26372 451.05078 365.20517 544.82697]\n",
      "a [241. 455. 363. 551.]\n",
      "b [254.96051 451.58417 364.70575 543.97516]\n"
     ]
    },
    {
     "name": "stderr",
     "output_type": "stream",
     "text": [
      " 59%|██████████████████████████████████████████████████████████████████████████████████████████████████▎                                                                    | 53/90 [02:20<01:28,  2.39s/it]"
     ]
    },
    {
     "name": "stdout",
     "output_type": "stream",
     "text": [
      "a [241. 455. 363. 551.]\n",
      "b [253.39825 449.55045 366.22705 546.3529 ]\n",
      "a [241. 455. 363. 551.]\n",
      "b [254.99902 451.49048 364.68286 544.1694 ]\n"
     ]
    },
    {
     "name": "stderr",
     "output_type": "stream",
     "text": [
      " 60%|████████████████████████████████████████████████████████████████████████████████████████████████████▏                                                                  | 54/90 [02:22<01:27,  2.42s/it]"
     ]
    },
    {
     "name": "stdout",
     "output_type": "stream",
     "text": [
      "a [241. 455. 363. 551.]\n",
      "b [253.3558  449.65744 366.2372  546.20264]\n",
      "a [241. 455. 363. 551.]\n",
      "b [254.98009 451.48758 364.7053  544.06323]\n"
     ]
    },
    {
     "name": "stderr",
     "output_type": "stream",
     "text": [
      " 61%|██████████████████████████████████████████████████████████████████████████████████████████████████████                                                                 | 55/90 [02:25<01:23,  2.40s/it]"
     ]
    },
    {
     "name": "stdout",
     "output_type": "stream",
     "text": [
      "a [241. 455. 363. 551.]\n",
      "b [253.19733 448.76013 366.14642 546.8658 ]\n",
      "a [241. 455. 363. 551.]\n",
      "b [254.62039 451.26953 365.13406 544.2806 ]\n"
     ]
    },
    {
     "name": "stderr",
     "output_type": "stream",
     "text": [
      " 62%|███████████████████████████████████████████████████████████████████████████████████████████████████████▉                                                               | 56/90 [02:26<01:14,  2.20s/it]"
     ]
    },
    {
     "name": "stdout",
     "output_type": "stream",
     "text": [
      "a [241. 455. 363. 551.]\n",
      "b [253.44177 450.04303 366.03235 546.1477 ]\n",
      "a [241. 455. 363. 551.]\n",
      "b [253.89404 450.44678 365.51813 545.3216 ]\n"
     ]
    },
    {
     "name": "stderr",
     "output_type": "stream",
     "text": [
      " 63%|█████████████████████████████████████████████████████████████████████████████████████████████████████████▊                                                             | 57/90 [02:29<01:18,  2.38s/it]"
     ]
    },
    {
     "name": "stdout",
     "output_type": "stream",
     "text": [
      "a [241. 455. 363. 551.]\n",
      "b [252.91785 449.17804 366.56757 546.8541 ]\n",
      "a [241. 455. 363. 551.]\n",
      "b [ 74.535   445.00702 595.433   751.736  ]\n"
     ]
    },
    {
     "name": "stderr",
     "output_type": "stream",
     "text": [
      " 64%|███████████████████████████████████████████████████████████████████████████████████████████████████████████▌                                                           | 58/90 [02:31<01:14,  2.32s/it]"
     ]
    },
    {
     "name": "stdout",
     "output_type": "stream",
     "text": [
      "a [247. 472. 420. 555.]\n",
      "b [244.14319 463.6765  423.0464  558.04596]\n",
      "a [247. 472. 420. 555.]\n",
      "b [244.82533 465.31863 422.37958 556.94995]\n"
     ]
    },
    {
     "name": "stderr",
     "output_type": "stream",
     "text": [
      " 66%|█████████████████████████████████████████████████████████████████████████████████████████████████████████████▍                                                         | 59/90 [02:42<02:27,  4.74s/it]"
     ]
    },
    {
     "name": "stdout",
     "output_type": "stream",
     "text": [
      "a [247. 472. 420. 555.]\n",
      "b [244.91467 465.61807 423.14575 558.098  ]\n",
      "a [247. 472. 420. 555.]\n",
      "b [244.62439 466.254   425.35815 560.7884 ]\n"
     ]
    },
    {
     "name": "stderr",
     "output_type": "stream",
     "text": [
      " 67%|███████████████████████████████████████████████████████████████████████████████████████████████████████████████▎                                                       | 60/90 [02:44<02:01,  4.07s/it]"
     ]
    },
    {
     "name": "stdout",
     "output_type": "stream",
     "text": [
      "a [247. 472. 420. 555.]\n",
      "b [ 73.14023 455.81995 593.8889  752.7285 ]\n",
      "a [247. 472. 420. 555.]\n",
      "b [246.13454 295.935   420.9497  321.99896]\n"
     ]
    },
    {
     "name": "stderr",
     "output_type": "stream",
     "text": [
      " 68%|█████████████████████████████████████████████████████████████████████████████████████████████████████████████████▏                                                     | 61/90 [02:47<01:46,  3.68s/it]"
     ]
    },
    {
     "name": "stdout",
     "output_type": "stream",
     "text": [
      "a [272. 473. 393. 561.]\n",
      "b [280.23703 468.76212 395.6473  555.64404]\n",
      "a [272. 473. 393. 561.]\n",
      "b [280.41238 468.92398 395.1741  555.2257 ]\n"
     ]
    },
    {
     "name": "stderr",
     "output_type": "stream",
     "text": [
      " 69%|███████████████████████████████████████████████████████████████████████████████████████████████████████████████████                                                    | 62/90 [02:50<01:33,  3.34s/it]"
     ]
    },
    {
     "name": "stdout",
     "output_type": "stream",
     "text": [
      "a [272. 473. 393. 561.]\n",
      "b [280.044   467.95282 395.93732 555.9673 ]\n",
      "a [272. 473. 393. 561.]\n",
      "b [280.06827 468.7723  395.8419  556.0611 ]\n"
     ]
    },
    {
     "name": "stderr",
     "output_type": "stream",
     "text": [
      " 70%|████████████████████████████████████████████████████████████████████████████████████████████████████████████████████▉                                                  | 63/90 [02:52<01:22,  3.04s/it]"
     ]
    },
    {
     "name": "stdout",
     "output_type": "stream",
     "text": [
      "a [272. 473. 393. 561.]\n",
      "b [279.8901  468.35654 396.19687 556.43964]\n",
      "a [272. 473. 393. 561.]\n",
      "b [280.50275 469.08862 396.87787 557.3727 ]\n"
     ]
    },
    {
     "name": "stderr",
     "output_type": "stream",
     "text": [
      " 71%|██████████████████████████████████████████████████████████████████████████████████████████████████████████████████████▊                                                | 64/90 [02:55<01:20,  3.11s/it]"
     ]
    },
    {
     "name": "stdout",
     "output_type": "stream",
     "text": [
      "a [272. 473. 393. 561.]\n",
      "b [280.16806 468.1498  395.9642  556.25165]\n",
      "a [272. 473. 393. 561.]\n",
      "b [280.4991  470.34152 396.08017 557.32263]\n"
     ]
    },
    {
     "name": "stderr",
     "output_type": "stream",
     "text": [
      " 72%|████████████████████████████████████████████████████████████████████████████████████████████████████████████████████████▌                                              | 65/90 [02:57<01:11,  2.86s/it]"
     ]
    },
    {
     "name": "stdout",
     "output_type": "stream",
     "text": [
      "a [272. 473. 393. 561.]\n",
      "b [279.83627 468.14853 396.37106 556.86383]\n",
      "a [272. 473. 393. 561.]\n",
      "b [280.93777 470.604   397.6876  558.0895 ]\n"
     ]
    },
    {
     "name": "stderr",
     "output_type": "stream",
     "text": [
      " 73%|██████████████████████████████████████████████████████████████████████████████████████████████████████████████████████████▍                                            | 66/90 [03:00<01:08,  2.87s/it]"
     ]
    },
    {
     "name": "stdout",
     "output_type": "stream",
     "text": [
      "a [272. 473. 393. 561.]\n",
      "b [280.6506  469.36868 396.86844 557.3666 ]\n",
      "a [272. 473. 393. 561.]\n",
      "b [280.59912 469.31757 395.88672 556.2629 ]\n"
     ]
    },
    {
     "name": "stderr",
     "output_type": "stream",
     "text": [
      " 74%|████████████████████████████████████████████████████████████████████████████████████████████████████████████████████████████▎                                          | 67/90 [03:03<01:03,  2.75s/it]"
     ]
    },
    {
     "name": "stdout",
     "output_type": "stream",
     "text": [
      "a [241. 490. 493. 572.]\n",
      "b [242.02866 484.64233 494.14902 573.9678 ]\n",
      "a [241. 490. 493. 572.]\n",
      "b [242.13753 485.48846 493.5338  573.21893]\n"
     ]
    },
    {
     "name": "stderr",
     "output_type": "stream",
     "text": [
      " 76%|██████████████████████████████████████████████████████████████████████████████████████████████████████████████████████████████▏                                        | 68/90 [03:06<00:59,  2.72s/it]"
     ]
    },
    {
     "name": "stdout",
     "output_type": "stream",
     "text": [
      "a [241. 490. 493. 572.]\n",
      "b [241.37772 484.41214 493.8832  574.2638 ]\n",
      "a [241. 490. 493. 572.]\n",
      "b [240.96005 484.5818  494.46567 574.88403]\n"
     ]
    },
    {
     "name": "stderr",
     "output_type": "stream",
     "text": [
      " 77%|████████████████████████████████████████████████████████████████████████████████████████████████████████████████████████████████                                       | 69/90 [03:08<00:52,  2.51s/it]"
     ]
    },
    {
     "name": "stdout",
     "output_type": "stream",
     "text": [
      "a [241. 490. 493. 572.]\n",
      "b [241.47273 484.55096 494.71814 574.8221 ]\n",
      "a [241. 490. 493. 572.]\n",
      "b [241.96912 485.2673  493.8014  573.4078 ]\n"
     ]
    },
    {
     "name": "stderr",
     "output_type": "stream",
     "text": [
      " 78%|█████████████████████████████████████████████████████████████████████████████████████████████████████████████████████████████████▉                                     | 70/90 [03:10<00:51,  2.60s/it]"
     ]
    },
    {
     "name": "stdout",
     "output_type": "stream",
     "text": [
      "a [241. 490. 493. 572.]\n",
      "b [ 73.54028 465.75812 591.5253  750.70905]\n",
      "a [241. 490. 493. 572.]\n",
      "b [241.78703 485.12778 493.65912 573.431  ]\n"
     ]
    },
    {
     "name": "stderr",
     "output_type": "stream",
     "text": [
      " 79%|███████████████████████████████████████████████████████████████████████████████████████████████████████████████████████████████████▋                                   | 71/90 [03:12<00:45,  2.41s/it]"
     ]
    },
    {
     "name": "stdout",
     "output_type": "stream",
     "text": [
      "a [241. 490. 493. 572.]\n",
      "b [241.50531 484.6706  494.05524 573.8968 ]\n",
      "a [241. 490. 493. 572.]\n",
      "b [  3.6960144 464.08002   592.7223    751.28937  ]\n"
     ]
    },
    {
     "name": "stderr",
     "output_type": "stream",
     "text": [
      " 80%|█████████████████████████████████████████████████████████████████████████████████████████████████████████████████████████████████████▌                                 | 72/90 [03:15<00:46,  2.56s/it]"
     ]
    },
    {
     "name": "stdout",
     "output_type": "stream",
     "text": [
      "a [241. 490. 493. 572.]\n",
      "b [  3.683075 467.1325   592.33496  750.7808  ]\n",
      "a [241. 490. 493. 572.]\n",
      "b [  3.782135 464.4975   592.12573  750.74664 ]\n"
     ]
    },
    {
     "name": "stderr",
     "output_type": "stream",
     "text": [
      " 81%|███████████████████████████████████████████████████████████████████████████████████████████████████████████████████████████████████████▍                               | 73/90 [03:18<00:42,  2.52s/it]"
     ]
    },
    {
     "name": "stdout",
     "output_type": "stream",
     "text": [
      "a [171. 471. 465. 545.]\n",
      "b [166.59091 465.17722 468.13553 548.7367 ]\n",
      "a [171. 471. 465. 545.]\n",
      "b [168.10587 467.4039  466.64792 547.0537 ]\n"
     ]
    },
    {
     "name": "stderr",
     "output_type": "stream",
     "text": [
      " 82%|█████████████████████████████████████████████████████████████████████████████████████████████████████████████████████████████████████████▎                             | 74/90 [03:19<00:36,  2.28s/it]"
     ]
    },
    {
     "name": "stdout",
     "output_type": "stream",
     "text": [
      "a [171. 471. 465. 545.]\n",
      "b [167.82944 467.24026 466.9827  547.6885 ]\n",
      "a [171. 471. 465. 545.]\n",
      "b [167.50061 467.01184 467.518   548.6041 ]\n"
     ]
    },
    {
     "name": "stderr",
     "output_type": "stream",
     "text": [
      " 83%|███████████████████████████████████████████████████████████████████████████████████████████████████████████████████████████████████████████▏                           | 75/90 [03:22<00:36,  2.46s/it]"
     ]
    },
    {
     "name": "stdout",
     "output_type": "stream",
     "text": [
      "a [171. 471. 465. 545.]\n",
      "b [167.43365 467.01758 467.21295 548.0849 ]\n",
      "a [171. 471. 465. 545.]\n",
      "b [167.19888 466.71686 467.40207 548.3443 ]\n"
     ]
    },
    {
     "name": "stderr",
     "output_type": "stream",
     "text": [
      " 84%|█████████████████████████████████████████████████████████████████████████████████████████████████████████████████████████████████████████████                          | 76/90 [03:24<00:32,  2.29s/it]"
     ]
    },
    {
     "name": "stdout",
     "output_type": "stream",
     "text": [
      "a [171. 471. 465. 545.]\n",
      "b [167.37332 466.7538  467.18484 548.1496 ]\n",
      "a [171. 471. 465. 545.]\n",
      "b [ 76.838715 464.6015   592.38135  750.9528  ]\n"
     ]
    },
    {
     "name": "stderr",
     "output_type": "stream",
     "text": [
      " 86%|██████████████████████████████████████████████████████████████████████████████████████████████████████████████████████████████████████████████▉                        | 77/90 [03:26<00:27,  2.09s/it]"
     ]
    },
    {
     "name": "stdout",
     "output_type": "stream",
     "text": [
      "a [171. 471. 465. 545.]\n",
      "b [166.83014 466.45013 467.35315 548.26447]\n",
      "a [171. 471. 465. 545.]\n",
      "b [167.60869 467.11972 466.90393 547.5294 ]\n"
     ]
    },
    {
     "name": "stderr",
     "output_type": "stream",
     "text": [
      " 87%|████████████████████████████████████████████████████████████████████████████████████████████████████████████████████████████████████████████████▋                      | 78/90 [03:29<00:28,  2.39s/it]"
     ]
    },
    {
     "name": "stdout",
     "output_type": "stream",
     "text": [
      "a [171. 471. 465. 545.]\n",
      "b [167.9602  467.44092 466.9646  547.2169 ]\n",
      "a [171. 471. 465. 545.]\n",
      "b [168.46591 468.16925 467.63663 548.49023]\n"
     ]
    },
    {
     "name": "stderr",
     "output_type": "stream",
     "text": [
      " 88%|██████████████████████████████████████████████████████████████████████████████████████████████████████████████████████████████████████████████████▌                    | 79/90 [03:31<00:25,  2.30s/it]"
     ]
    },
    {
     "name": "stdout",
     "output_type": "stream",
     "text": [
      "a [241. 455. 363. 551.]\n",
      "b [255.19473 451.2376  365.22574 544.95996]\n",
      "a [241. 455. 363. 551.]\n",
      "b [254.95241 451.73373 364.66333 544.7279 ]\n"
     ]
    },
    {
     "name": "stderr",
     "output_type": "stream",
     "text": [
      " 90%|██████████████████████████████████████████████████████████████████████████████████████████████████████████████████████████████████████████████████████▎                | 81/90 [03:35<00:19,  2.20s/it]"
     ]
    },
    {
     "name": "stdout",
     "output_type": "stream",
     "text": [
      "a [241. 455. 363. 551.]\n",
      "b [254.09085 450.72415 365.69376 545.64545]\n",
      "a [241. 455. 363. 551.]\n",
      "b [255.09404 451.9366  365.963   545.95074]\n"
     ]
    },
    {
     "name": "stderr",
     "output_type": "stream",
     "text": [
      " 91%|████████████████████████████████████████████████████████████████████████████████████████████████████████████████████████████████████████████████████████▏              | 82/90 [03:37<00:16,  2.00s/it]"
     ]
    },
    {
     "name": "stdout",
     "output_type": "stream",
     "text": [
      "a [241. 455. 363. 551.]\n",
      "b [254.46538 451.1178  365.43384 545.65045]\n",
      "a [241. 455. 363. 551.]\n",
      "b [254.99698 451.87622 366.60892 546.61456]\n"
     ]
    },
    {
     "name": "stderr",
     "output_type": "stream",
     "text": [
      " 92%|██████████████████████████████████████████████████████████████████████████████████████████████████████████████████████████████████████████████████████████             | 83/90 [03:40<00:17,  2.43s/it]"
     ]
    },
    {
     "name": "stdout",
     "output_type": "stream",
     "text": [
      "a [247. 472. 420. 555.]\n",
      "b [244.6414 465.047  422.7276 557.1469]\n",
      "a [247. 472. 420. 555.]\n",
      "b [  3.3717957 465.4842    593.38477   752.2205   ]\n"
     ]
    },
    {
     "name": "stderr",
     "output_type": "stream",
     "text": [
      " 93%|███████████████████████████████████████████████████████████████████████████████████████████████████████████████████████████████████████████████████████████▊           | 84/90 [03:43<00:14,  2.39s/it]"
     ]
    },
    {
     "name": "stdout",
     "output_type": "stream",
     "text": [
      "a [247. 472. 420. 555.]\n",
      "b [244.42188 464.90872 422.81293 557.6102 ]\n",
      "a [247. 472. 420. 555.]\n",
      "b [244.83029 466.6416  423.543   558.2875 ]\n"
     ]
    },
    {
     "name": "stderr",
     "output_type": "stream",
     "text": [
      " 94%|█████████████████████████████████████████████████████████████████████████████████████████████████████████████████████████████████████████████████████████████▋         | 85/90 [03:46<00:13,  2.76s/it]"
     ]
    },
    {
     "name": "stdout",
     "output_type": "stream",
     "text": [
      "a [247. 472. 420. 555.]\n",
      "b [ 74.05789 454.38412 595.17847 750.6483 ]\n",
      "a [247. 472. 420. 555.]\n",
      "b [244.11438 294.88153 420.54712 321.99408]\n"
     ]
    },
    {
     "name": "stderr",
     "output_type": "stream",
     "text": [
      " 96%|███████████████████████████████████████████████████████████████████████████████████████████████████████████████████████████████████████████████████████████████▌       | 86/90 [03:48<00:10,  2.61s/it]"
     ]
    },
    {
     "name": "stdout",
     "output_type": "stream",
     "text": [
      "a [272. 473. 393. 561.]\n",
      "b [280.12634 468.80234 395.97266 556.04175]\n",
      "a [272. 473. 393. 561.]\n",
      "b [280.51456 469.2724  395.20602 555.4445 ]\n"
     ]
    },
    {
     "name": "stderr",
     "output_type": "stream",
     "text": [
      " 97%|█████████████████████████████████████████████████████████████████████████████████████████████████████████████████████████████████████████████████████████████████▍     | 87/90 [03:51<00:08,  2.69s/it]"
     ]
    },
    {
     "name": "stdout",
     "output_type": "stream",
     "text": [
      "a [272. 473. 393. 561.]\n",
      "b [279.9937  468.57266 395.7838  556.43317]\n",
      "a [272. 473. 393. 561.]\n",
      "b [280.13    469.05557 396.04443 556.5141 ]\n"
     ]
    },
    {
     "name": "stderr",
     "output_type": "stream",
     "text": [
      " 98%|███████████████████████████████████████████████████████████████████████████████████████████████████████████████████████████████████████████████████████████████████▎   | 88/90 [03:53<00:04,  2.32s/it]"
     ]
    },
    {
     "name": "stdout",
     "output_type": "stream",
     "text": [
      "a [272. 473. 393. 561.]\n",
      "b [ 74.69446 462.81903 592.15    750.4255 ]\n",
      "a [272. 473. 393. 561.]\n",
      "b [280.88965 469.94327 396.67798 556.8952 ]\n"
     ]
    },
    {
     "name": "stderr",
     "output_type": "stream",
     "text": [
      " 99%|█████████████████████████████████████████████████████████████████████████████████████████████████████████████████████████████████████████████████████████████████████▏ | 89/90 [03:55<00:02,  2.42s/it]"
     ]
    },
    {
     "name": "stdout",
     "output_type": "stream",
     "text": [
      "a [272. 473. 393. 561.]\n",
      "b [280.66153 470.10776 397.09122 557.7333 ]\n",
      "a [272. 473. 393. 561.]\n",
      "b [ 76.02643 464.3385  593.6374  751.9961 ]\n"
     ]
    },
    {
     "name": "stderr",
     "output_type": "stream",
     "text": [
      "100%|███████████████████████████████████████████████████████████████████████████████████████████████████████████████████████████████████████████████████████████████████████| 90/90 [03:58<00:00,  2.65s/it]"
     ]
    },
    {
     "name": "stdout",
     "output_type": "stream",
     "text": [
      "a [272. 473. 393. 561.]\n",
      "b [280.87817 470.33243 397.0697  557.38306]\n",
      "a [272. 473. 393. 561.]\n",
      "b [280.59692 469.8494  396.79254 557.36035]\n"
     ]
    },
    {
     "name": "stderr",
     "output_type": "stream",
     "text": [
      "\n"
     ]
    }
   ],
   "source": [
    "import tqdm\n",
    "from dpo_tuning.utils.metrics import box_iou\n",
    "\n",
    "path_to_imgs='../gold/images/RGB_raw/'\n",
    "detector = BaseDetector(\"Dino\")\n",
    "\n",
    "score_old = []\n",
    "score_tuned = []\n",
    "\n",
    "iou_score_old = []\n",
    "iou_score_tuned = []\n",
    "\n",
    "for i in tqdm.tqdm(range(90)):\n",
    "    \n",
    "    my_prompt = prepare_h_prompt(f\"[INST] {data['prompt'][i]} [/INST]\")\n",
    "    try:\n",
    "        output = reframe(my_prompt)\n",
    "    except:\n",
    "        continue\n",
    "    prompt_tuned = split_prompt(output)\n",
    "    prompt = split_prompt(my_prompt)\n",
    "    \n",
    "    real_bbox, prompt_bbox, prompt_pred_score, output, name = get_predictions(i, data, prompt, detector, path_to_imgs)\n",
    "    real_bbox, predicted_bbox, pred_score, output, name = get_predictions(i, data, prompt_tuned, detector, path_to_imgs)\n",
    "    \n",
    "    iou_score_old.append(float(box_iou(real_bbox, prompt_bbox)))\n",
    "    iou_score_tuned.append(float(box_iou(real_bbox, predicted_bbox)))\n",
    "    \n",
    "    score_old.append(prompt_pred_score)\n",
    "    score_tuned.append(pred_score)\n",
    "    \n",
    "    "
   ]
  },
  {
   "cell_type": "code",
   "execution_count": 145,
   "id": "a15c86fc-eec2-493a-98af-4f98348b88a7",
   "metadata": {},
   "outputs": [
    {
     "name": "stdout",
     "output_type": "stream",
     "text": [
      "MEAN-score-old 0.5739665591511233\n",
      "MEAN-score-tuned 0.5929911969036892\n",
      "\n",
      "MEAN-score-old 0.7405949299731299\n",
      "MEAN-score-tuned 0.7312483267750324\n"
     ]
    }
   ],
   "source": [
    "print(\"MEAN-score-old\", np.mean(score_old))\n",
    "print(\"MEAN-score-tuned\", np.mean(score_tuned))\n",
    "\n",
    "print()\n",
    "\n",
    "print(\"MEAN-score-old\", np.mean(iou_score_old))\n",
    "print(\"MEAN-score-tuned\", np.mean(iou_score_tuned))"
   ]
  },
  {
   "cell_type": "code",
   "execution_count": 133,
   "id": "59b6ae4a-83f0-453f-bd05-7e8e9ff34739",
   "metadata": {},
   "outputs": [
    {
     "data": {
      "text/plain": [
       "\"[INST] Paraphrase sentence:\\n\\nThe tape measure showcases an aesthetically pleasing color scheme, featuring bold and vibrant yellow and black colors that grab the viewer's attention [/INST]\""
      ]
     },
     "execution_count": 133,
     "metadata": {},
     "output_type": "execute_result"
    }
   ],
   "source": [
    "my_prompt"
   ]
  },
  {
   "cell_type": "code",
   "execution_count": 146,
   "id": "f581df6a-ccaa-44ad-a317-2d3bf6f4d67a",
   "metadata": {},
   "outputs": [
    {
     "data": {
      "text/html": [
       "<style type=\"text/css\">\n",
       "#T_37ef5_row0_col1, #T_37ef5_row0_col3 {\n",
       "  font-weight: bold;\n",
       "}\n",
       "</style>\n",
       "<table id=\"T_37ef5\">\n",
       "  <thead>\n",
       "    <tr>\n",
       "      <th class=\"blank level0\" >&nbsp;</th>\n",
       "      <th id=\"T_37ef5_level0_col0\" class=\"col_heading level0 col0\" >MEAN-score-old</th>\n",
       "      <th id=\"T_37ef5_level0_col1\" class=\"col_heading level0 col1\" >MEAN-score-tuned</th>\n",
       "      <th id=\"T_37ef5_level0_col2\" class=\"col_heading level0 col2\" >MEAN-iou-score-old</th>\n",
       "      <th id=\"T_37ef5_level0_col3\" class=\"col_heading level0 col3\" >MEAN-iou-score-tuned</th>\n",
       "    </tr>\n",
       "  </thead>\n",
       "  <tbody>\n",
       "    <tr>\n",
       "      <th id=\"T_37ef5_level0_row0\" class=\"row_heading level0 row0\" >0</th>\n",
       "      <td id=\"T_37ef5_row0_col0\" class=\"data row0 col0\" >0.573967</td>\n",
       "      <td id=\"T_37ef5_row0_col1\" class=\"data row0 col1\" >0.592991</td>\n",
       "      <td id=\"T_37ef5_row0_col2\" class=\"data row0 col2\" >0.740595</td>\n",
       "      <td id=\"T_37ef5_row0_col3\" class=\"data row0 col3\" >0.731248</td>\n",
       "    </tr>\n",
       "  </tbody>\n",
       "</table>\n"
      ],
      "text/plain": [
       "<pandas.io.formats.style.Styler at 0x7f86f3f1baf0>"
      ]
     },
     "execution_count": 146,
     "metadata": {},
     "output_type": "execute_result"
    }
   ],
   "source": [
    "import pandas as pd\n",
    "import numpy as np\n",
    "\n",
    "\n",
    "# Создание DataFrame\n",
    "df = pd.DataFrame({\n",
    "    \"MEAN-score-old\": [np.mean(score_old)],\n",
    "    \"MEAN-score-tuned\": [np.mean(score_tuned)],\n",
    "    \"MEAN-iou-score-old\": [np.mean(iou_score_old)],\n",
    "    \"MEAN-iou-score-tuned\": [np.mean(iou_score_tuned)]\n",
    "})\n",
    "\n",
    "# Функция для выделения максимального значения в строке\n",
    "def highlight_max(s):\n",
    "\n",
    "    return [None, 'font-weight: bold',None, 'font-weight: bold']\n",
    "\n",
    "# Применяем стилизацию для выделения лучшего значения в каждой паре\n",
    "styled_df = df.style.apply(highlight_max, axis=1)\n",
    "styled_df"
   ]
  },
  {
   "cell_type": "code",
   "execution_count": null,
   "id": "feb6e6f6-c6fa-4eab-ba04-fdfc1762345a",
   "metadata": {},
   "outputs": [],
   "source": []
  },
  {
   "cell_type": "code",
   "execution_count": null,
   "id": "6d6071a8-9f98-4efb-bb75-b9482900c9de",
   "metadata": {},
   "outputs": [],
   "source": []
  }
 ],
 "metadata": {
  "kernelspec": {
   "display_name": "Python 3 (ipykernel)",
   "language": "python",
   "name": "python3"
  },
  "language_info": {
   "codemirror_mode": {
    "name": "ipython",
    "version": 3
   },
   "file_extension": ".py",
   "mimetype": "text/x-python",
   "name": "python",
   "nbconvert_exporter": "python",
   "pygments_lexer": "ipython3",
   "version": "3.8.10"
  }
 },
 "nbformat": 4,
 "nbformat_minor": 5
}
